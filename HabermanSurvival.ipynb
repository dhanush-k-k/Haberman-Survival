{
 "cells": [
  {
   "cell_type": "markdown",
   "metadata": {
    "colab_type": "text",
    "id": "lP6JLo1tGNBg"
   },
   "source": [
    "# Cancer Data Classifier"
   ]
  },
  {
   "cell_type": "markdown",
   "metadata": {},
   "source": [
    "## Project Description\n",
    "<b>Prostate, Lung, Colorectal, and Ovarian Cancer Screening Trial (PLCO)</b>                                                      \n",
    "The Prostate, Lung, Colorectal, and Ovarian (PLCO) Cancer Screening Trial is a large randomized trial designed and sponsored by the National Cancer Institute (NCI) to determine the chance of getting PLCO cancer. The screening component of the trial was completed in 2006. Participants are being followed and additional data will be collected through 2015. In this assignment, you work on a subset of the dataset, for 216 patients, labeled as ('C') cancer and ('N') No cancer, with 4000 features (info related to gene, blood, etc.)\n",
    "\n",
    "      "
   ]
  },
  {
   "cell_type": "markdown",
   "metadata": {
    "colab_type": "text",
    "id": "gWZyYmS_UE_L"
   },
   "source": [
    "## Importing the Libraries"
   ]
  },
  {
   "cell_type": "code",
   "execution_count": 2,
   "metadata": {
    "colab": {},
    "colab_type": "code",
    "id": "MxkJoQBkUIHC"
   },
   "outputs": [],
   "source": [
    "import numpy as np\n",
    "import pandas as pd\n",
    "import matplotlib.pyplot as plt\n",
    "import tensorflow as tf\n",
    "import time"
   ]
  },
  {
   "cell_type": "markdown",
   "metadata": {
    "colab_type": "text",
    "id": "1E0Q3aoKUCRX"
   },
   "source": [
    "## Data Preprocessing"
   ]
  },
  {
   "cell_type": "markdown",
   "metadata": {
    "colab_type": "text",
    "id": "cKWAkFVGUU0Z"
   },
   "source": [
    "### Importing the Dataset"
   ]
  },
  {
   "cell_type": "code",
   "execution_count": 3,
   "metadata": {
    "colab": {},
    "colab_type": "code",
    "id": "MXUkhkMfU4wq"
   },
   "outputs": [],
   "source": [
    "dataset = pd.read_csv('cancer.csv')\n",
    "X = dataset.iloc[:, :-1].values\n",
    "Y = dataset.iloc[:, -1].values"
   ]
  },
  {
   "cell_type": "code",
   "execution_count": 4,
   "metadata": {},
   "outputs": [
    {
     "data": {
      "text/html": [
       "<div>\n",
       "<style scoped>\n",
       "    .dataframe tbody tr th:only-of-type {\n",
       "        vertical-align: middle;\n",
       "    }\n",
       "\n",
       "    .dataframe tbody tr th {\n",
       "        vertical-align: top;\n",
       "    }\n",
       "\n",
       "    .dataframe thead th {\n",
       "        text-align: right;\n",
       "    }\n",
       "</style>\n",
       "<table border=\"1\" class=\"dataframe\">\n",
       "  <thead>\n",
       "    <tr style=\"text-align: right;\">\n",
       "      <th></th>\n",
       "      <th>0.063915</th>\n",
       "      <th>0.033242</th>\n",
       "      <th>0.018484</th>\n",
       "      <th>0.0086177</th>\n",
       "      <th>0.035629</th>\n",
       "      <th>0.037925</th>\n",
       "      <th>0.028865</th>\n",
       "      <th>0.061731</th>\n",
       "      <th>0.0631</th>\n",
       "      <th>0.024787</th>\n",
       "      <th>...</th>\n",
       "      <th>0.021515</th>\n",
       "      <th>0.017385</th>\n",
       "      <th>0.018564</th>\n",
       "      <th>0.010027</th>\n",
       "      <th>0.012907</th>\n",
       "      <th>0.023405</th>\n",
       "      <th>0.038839</th>\n",
       "      <th>0.038151</th>\n",
       "      <th>0.032085</th>\n",
       "      <th>C</th>\n",
       "    </tr>\n",
       "  </thead>\n",
       "  <tbody>\n",
       "    <tr>\n",
       "      <th>0</th>\n",
       "      <td>0.025409</td>\n",
       "      <td>0.051085</td>\n",
       "      <td>0.056305</td>\n",
       "      <td>0.021738</td>\n",
       "      <td>0.027410</td>\n",
       "      <td>0.014914</td>\n",
       "      <td>0.022455</td>\n",
       "      <td>0.023957</td>\n",
       "      <td>0.060527</td>\n",
       "      <td>0.047382</td>\n",
       "      <td>...</td>\n",
       "      <td>0.055033</td>\n",
       "      <td>0.080864</td>\n",
       "      <td>0.053423</td>\n",
       "      <td>0.051942</td>\n",
       "      <td>0.013187</td>\n",
       "      <td>0.028573</td>\n",
       "      <td>0.020427</td>\n",
       "      <td>0.023261</td>\n",
       "      <td>0.019975</td>\n",
       "      <td>C</td>\n",
       "    </tr>\n",
       "    <tr>\n",
       "      <th>1</th>\n",
       "      <td>0.025536</td>\n",
       "      <td>0.036123</td>\n",
       "      <td>0.054195</td>\n",
       "      <td>0.009735</td>\n",
       "      <td>0.027521</td>\n",
       "      <td>0.052255</td>\n",
       "      <td>0.042812</td>\n",
       "      <td>0.069087</td>\n",
       "      <td>0.069873</td>\n",
       "      <td>0.066629</td>\n",
       "      <td>...</td>\n",
       "      <td>0.033783</td>\n",
       "      <td>0.029022</td>\n",
       "      <td>0.046397</td>\n",
       "      <td>0.033288</td>\n",
       "      <td>0.041889</td>\n",
       "      <td>0.019256</td>\n",
       "      <td>-0.009447</td>\n",
       "      <td>0.021481</td>\n",
       "      <td>0.025569</td>\n",
       "      <td>C</td>\n",
       "    </tr>\n",
       "    <tr>\n",
       "      <th>2</th>\n",
       "      <td>0.012817</td>\n",
       "      <td>0.029652</td>\n",
       "      <td>0.079290</td>\n",
       "      <td>0.050677</td>\n",
       "      <td>0.039737</td>\n",
       "      <td>0.057713</td>\n",
       "      <td>0.044492</td>\n",
       "      <td>0.034581</td>\n",
       "      <td>0.042587</td>\n",
       "      <td>0.034147</td>\n",
       "      <td>...</td>\n",
       "      <td>0.036083</td>\n",
       "      <td>0.038598</td>\n",
       "      <td>0.048881</td>\n",
       "      <td>0.025569</td>\n",
       "      <td>0.026710</td>\n",
       "      <td>0.025122</td>\n",
       "      <td>0.047466</td>\n",
       "      <td>0.046706</td>\n",
       "      <td>0.043482</td>\n",
       "      <td>C</td>\n",
       "    </tr>\n",
       "    <tr>\n",
       "      <th>3</th>\n",
       "      <td>0.019846</td>\n",
       "      <td>-0.010577</td>\n",
       "      <td>-0.007504</td>\n",
       "      <td>0.019042</td>\n",
       "      <td>0.068786</td>\n",
       "      <td>0.061764</td>\n",
       "      <td>0.039036</td>\n",
       "      <td>0.020445</td>\n",
       "      <td>0.025988</td>\n",
       "      <td>0.066716</td>\n",
       "      <td>...</td>\n",
       "      <td>0.032044</td>\n",
       "      <td>0.026320</td>\n",
       "      <td>0.072016</td>\n",
       "      <td>0.070145</td>\n",
       "      <td>0.055744</td>\n",
       "      <td>0.051084</td>\n",
       "      <td>0.036683</td>\n",
       "      <td>0.043729</td>\n",
       "      <td>0.040289</td>\n",
       "      <td>C</td>\n",
       "    </tr>\n",
       "    <tr>\n",
       "      <th>4</th>\n",
       "      <td>0.039048</td>\n",
       "      <td>0.039355</td>\n",
       "      <td>0.001343</td>\n",
       "      <td>0.026221</td>\n",
       "      <td>0.044091</td>\n",
       "      <td>0.043953</td>\n",
       "      <td>0.039629</td>\n",
       "      <td>0.047926</td>\n",
       "      <td>0.046892</td>\n",
       "      <td>0.030589</td>\n",
       "      <td>...</td>\n",
       "      <td>0.065494</td>\n",
       "      <td>0.030681</td>\n",
       "      <td>0.039686</td>\n",
       "      <td>0.037256</td>\n",
       "      <td>0.022888</td>\n",
       "      <td>0.056221</td>\n",
       "      <td>0.055819</td>\n",
       "      <td>0.010087</td>\n",
       "      <td>0.006004</td>\n",
       "      <td>C</td>\n",
       "    </tr>\n",
       "    <tr>\n",
       "      <th>...</th>\n",
       "      <td>...</td>\n",
       "      <td>...</td>\n",
       "      <td>...</td>\n",
       "      <td>...</td>\n",
       "      <td>...</td>\n",
       "      <td>...</td>\n",
       "      <td>...</td>\n",
       "      <td>...</td>\n",
       "      <td>...</td>\n",
       "      <td>...</td>\n",
       "      <td>...</td>\n",
       "      <td>...</td>\n",
       "      <td>...</td>\n",
       "      <td>...</td>\n",
       "      <td>...</td>\n",
       "      <td>...</td>\n",
       "      <td>...</td>\n",
       "      <td>...</td>\n",
       "      <td>...</td>\n",
       "      <td>...</td>\n",
       "      <td>...</td>\n",
       "    </tr>\n",
       "    <tr>\n",
       "      <th>210</th>\n",
       "      <td>0.019997</td>\n",
       "      <td>0.002927</td>\n",
       "      <td>0.006809</td>\n",
       "      <td>-0.003585</td>\n",
       "      <td>0.026362</td>\n",
       "      <td>0.026540</td>\n",
       "      <td>0.026112</td>\n",
       "      <td>0.026230</td>\n",
       "      <td>0.021676</td>\n",
       "      <td>0.024205</td>\n",
       "      <td>...</td>\n",
       "      <td>0.018509</td>\n",
       "      <td>0.013225</td>\n",
       "      <td>0.015765</td>\n",
       "      <td>0.018762</td>\n",
       "      <td>0.012212</td>\n",
       "      <td>0.009340</td>\n",
       "      <td>0.020955</td>\n",
       "      <td>0.010685</td>\n",
       "      <td>0.013423</td>\n",
       "      <td>N</td>\n",
       "    </tr>\n",
       "    <tr>\n",
       "      <th>211</th>\n",
       "      <td>0.042346</td>\n",
       "      <td>0.031884</td>\n",
       "      <td>0.049617</td>\n",
       "      <td>0.031419</td>\n",
       "      <td>0.042043</td>\n",
       "      <td>0.033383</td>\n",
       "      <td>0.054695</td>\n",
       "      <td>0.079029</td>\n",
       "      <td>0.063147</td>\n",
       "      <td>0.040817</td>\n",
       "      <td>...</td>\n",
       "      <td>0.019066</td>\n",
       "      <td>0.038845</td>\n",
       "      <td>0.035201</td>\n",
       "      <td>0.013012</td>\n",
       "      <td>0.032180</td>\n",
       "      <td>0.026465</td>\n",
       "      <td>0.017850</td>\n",
       "      <td>0.036014</td>\n",
       "      <td>0.018276</td>\n",
       "      <td>N</td>\n",
       "    </tr>\n",
       "    <tr>\n",
       "      <th>212</th>\n",
       "      <td>0.023558</td>\n",
       "      <td>0.021331</td>\n",
       "      <td>0.016210</td>\n",
       "      <td>0.012324</td>\n",
       "      <td>0.022074</td>\n",
       "      <td>0.029829</td>\n",
       "      <td>0.032624</td>\n",
       "      <td>0.022100</td>\n",
       "      <td>0.028950</td>\n",
       "      <td>0.037769</td>\n",
       "      <td>...</td>\n",
       "      <td>0.031909</td>\n",
       "      <td>0.019024</td>\n",
       "      <td>0.024298</td>\n",
       "      <td>0.032061</td>\n",
       "      <td>0.009901</td>\n",
       "      <td>0.011709</td>\n",
       "      <td>0.008274</td>\n",
       "      <td>0.004742</td>\n",
       "      <td>0.024756</td>\n",
       "      <td>N</td>\n",
       "    </tr>\n",
       "    <tr>\n",
       "      <th>213</th>\n",
       "      <td>0.028351</td>\n",
       "      <td>0.023266</td>\n",
       "      <td>0.004556</td>\n",
       "      <td>0.024095</td>\n",
       "      <td>0.018943</td>\n",
       "      <td>0.025935</td>\n",
       "      <td>0.019066</td>\n",
       "      <td>0.037213</td>\n",
       "      <td>0.041892</td>\n",
       "      <td>0.031092</td>\n",
       "      <td>...</td>\n",
       "      <td>0.012613</td>\n",
       "      <td>0.031370</td>\n",
       "      <td>0.030285</td>\n",
       "      <td>0.034522</td>\n",
       "      <td>0.024089</td>\n",
       "      <td>0.006737</td>\n",
       "      <td>0.010033</td>\n",
       "      <td>0.017391</td>\n",
       "      <td>0.031537</td>\n",
       "      <td>N</td>\n",
       "    </tr>\n",
       "    <tr>\n",
       "      <th>214</th>\n",
       "      <td>0.027428</td>\n",
       "      <td>0.027021</td>\n",
       "      <td>0.015273</td>\n",
       "      <td>0.026199</td>\n",
       "      <td>0.018178</td>\n",
       "      <td>0.022988</td>\n",
       "      <td>0.021955</td>\n",
       "      <td>0.044174</td>\n",
       "      <td>0.034616</td>\n",
       "      <td>0.030664</td>\n",
       "      <td>...</td>\n",
       "      <td>0.040424</td>\n",
       "      <td>0.011187</td>\n",
       "      <td>0.007513</td>\n",
       "      <td>0.020666</td>\n",
       "      <td>0.040298</td>\n",
       "      <td>0.021256</td>\n",
       "      <td>0.026642</td>\n",
       "      <td>0.027718</td>\n",
       "      <td>0.040418</td>\n",
       "      <td>N</td>\n",
       "    </tr>\n",
       "  </tbody>\n",
       "</table>\n",
       "<p>215 rows × 4001 columns</p>\n",
       "</div>"
      ],
      "text/plain": [
       "     0.063915  0.033242  0.018484  0.0086177  0.035629  0.037925  0.028865  \\\n",
       "0    0.025409  0.051085  0.056305   0.021738  0.027410  0.014914  0.022455   \n",
       "1    0.025536  0.036123  0.054195   0.009735  0.027521  0.052255  0.042812   \n",
       "2    0.012817  0.029652  0.079290   0.050677  0.039737  0.057713  0.044492   \n",
       "3    0.019846 -0.010577 -0.007504   0.019042  0.068786  0.061764  0.039036   \n",
       "4    0.039048  0.039355  0.001343   0.026221  0.044091  0.043953  0.039629   \n",
       "..        ...       ...       ...        ...       ...       ...       ...   \n",
       "210  0.019997  0.002927  0.006809  -0.003585  0.026362  0.026540  0.026112   \n",
       "211  0.042346  0.031884  0.049617   0.031419  0.042043  0.033383  0.054695   \n",
       "212  0.023558  0.021331  0.016210   0.012324  0.022074  0.029829  0.032624   \n",
       "213  0.028351  0.023266  0.004556   0.024095  0.018943  0.025935  0.019066   \n",
       "214  0.027428  0.027021  0.015273   0.026199  0.018178  0.022988  0.021955   \n",
       "\n",
       "     0.061731    0.0631  0.024787  ...  0.021515  0.017385  0.018564  \\\n",
       "0    0.023957  0.060527  0.047382  ...  0.055033  0.080864  0.053423   \n",
       "1    0.069087  0.069873  0.066629  ...  0.033783  0.029022  0.046397   \n",
       "2    0.034581  0.042587  0.034147  ...  0.036083  0.038598  0.048881   \n",
       "3    0.020445  0.025988  0.066716  ...  0.032044  0.026320  0.072016   \n",
       "4    0.047926  0.046892  0.030589  ...  0.065494  0.030681  0.039686   \n",
       "..        ...       ...       ...  ...       ...       ...       ...   \n",
       "210  0.026230  0.021676  0.024205  ...  0.018509  0.013225  0.015765   \n",
       "211  0.079029  0.063147  0.040817  ...  0.019066  0.038845  0.035201   \n",
       "212  0.022100  0.028950  0.037769  ...  0.031909  0.019024  0.024298   \n",
       "213  0.037213  0.041892  0.031092  ...  0.012613  0.031370  0.030285   \n",
       "214  0.044174  0.034616  0.030664  ...  0.040424  0.011187  0.007513   \n",
       "\n",
       "     0.010027  0.012907  0.023405  0.038839  0.038151  0.032085  C  \n",
       "0    0.051942  0.013187  0.028573  0.020427  0.023261  0.019975  C  \n",
       "1    0.033288  0.041889  0.019256 -0.009447  0.021481  0.025569  C  \n",
       "2    0.025569  0.026710  0.025122  0.047466  0.046706  0.043482  C  \n",
       "3    0.070145  0.055744  0.051084  0.036683  0.043729  0.040289  C  \n",
       "4    0.037256  0.022888  0.056221  0.055819  0.010087  0.006004  C  \n",
       "..        ...       ...       ...       ...       ...       ... ..  \n",
       "210  0.018762  0.012212  0.009340  0.020955  0.010685  0.013423  N  \n",
       "211  0.013012  0.032180  0.026465  0.017850  0.036014  0.018276  N  \n",
       "212  0.032061  0.009901  0.011709  0.008274  0.004742  0.024756  N  \n",
       "213  0.034522  0.024089  0.006737  0.010033  0.017391  0.031537  N  \n",
       "214  0.020666  0.040298  0.021256  0.026642  0.027718  0.040418  N  \n",
       "\n",
       "[215 rows x 4001 columns]"
      ]
     },
     "execution_count": 4,
     "metadata": {},
     "output_type": "execute_result"
    }
   ],
   "source": [
    "pd.DataFrame(dataset)"
   ]
  },
  {
   "cell_type": "markdown",
   "metadata": {},
   "source": [
    "## Encoding the Output Data\n",
    "Here, we replace Oak, Pine, and Cherry with Labels 0,1, and 2"
   ]
  },
  {
   "cell_type": "code",
   "execution_count": 6,
   "metadata": {},
   "outputs": [],
   "source": [
    "from sklearn.preprocessing import LabelEncoder\n",
    "le = LabelEncoder()\n",
    "Y = le.fit_transform(Y)"
   ]
  },
  {
   "cell_type": "markdown",
   "metadata": {},
   "source": [
    "## PCA"
   ]
  },
  {
   "cell_type": "code",
   "execution_count": 7,
   "metadata": {},
   "outputs": [],
   "source": [
    "from sklearn.decomposition import PCA\n",
    "PrinCom=PCA(n_components=215) # we choose the number of PCs\n",
    "PrinCom.fit(X)\n",
    "Z=PrinCom.transform(X)"
   ]
  },
  {
   "cell_type": "markdown",
   "metadata": {},
   "source": [
    "Printing PCA 1 and PCA 2"
   ]
  },
  {
   "cell_type": "code",
   "execution_count": 8,
   "metadata": {},
   "outputs": [
    {
     "data": {
      "text/html": [
       "<div>\n",
       "<style scoped>\n",
       "    .dataframe tbody tr th:only-of-type {\n",
       "        vertical-align: middle;\n",
       "    }\n",
       "\n",
       "    .dataframe tbody tr th {\n",
       "        vertical-align: top;\n",
       "    }\n",
       "\n",
       "    .dataframe thead th {\n",
       "        text-align: right;\n",
       "    }\n",
       "</style>\n",
       "<table border=\"1\" class=\"dataframe\">\n",
       "  <thead>\n",
       "    <tr style=\"text-align: right;\">\n",
       "      <th></th>\n",
       "      <th>0</th>\n",
       "    </tr>\n",
       "  </thead>\n",
       "  <tbody>\n",
       "    <tr>\n",
       "      <th>0</th>\n",
       "      <td>9.266716</td>\n",
       "    </tr>\n",
       "    <tr>\n",
       "      <th>1</th>\n",
       "      <td>19.951634</td>\n",
       "    </tr>\n",
       "    <tr>\n",
       "      <th>2</th>\n",
       "      <td>12.567389</td>\n",
       "    </tr>\n",
       "    <tr>\n",
       "      <th>3</th>\n",
       "      <td>29.648523</td>\n",
       "    </tr>\n",
       "    <tr>\n",
       "      <th>4</th>\n",
       "      <td>22.292448</td>\n",
       "    </tr>\n",
       "    <tr>\n",
       "      <th>...</th>\n",
       "      <td>...</td>\n",
       "    </tr>\n",
       "    <tr>\n",
       "      <th>210</th>\n",
       "      <td>-9.338252</td>\n",
       "    </tr>\n",
       "    <tr>\n",
       "      <th>211</th>\n",
       "      <td>-2.877761</td>\n",
       "    </tr>\n",
       "    <tr>\n",
       "      <th>212</th>\n",
       "      <td>-0.558225</td>\n",
       "    </tr>\n",
       "    <tr>\n",
       "      <th>213</th>\n",
       "      <td>-3.872329</td>\n",
       "    </tr>\n",
       "    <tr>\n",
       "      <th>214</th>\n",
       "      <td>-0.113342</td>\n",
       "    </tr>\n",
       "  </tbody>\n",
       "</table>\n",
       "<p>215 rows × 1 columns</p>\n",
       "</div>"
      ],
      "text/plain": [
       "             0\n",
       "0     9.266716\n",
       "1    19.951634\n",
       "2    12.567389\n",
       "3    29.648523\n",
       "4    22.292448\n",
       "..         ...\n",
       "210  -9.338252\n",
       "211  -2.877761\n",
       "212  -0.558225\n",
       "213  -3.872329\n",
       "214  -0.113342\n",
       "\n",
       "[215 rows x 1 columns]"
      ]
     },
     "execution_count": 8,
     "metadata": {},
     "output_type": "execute_result"
    }
   ],
   "source": [
    "pd.DataFrame(Z[:,0])"
   ]
  },
  {
   "cell_type": "code",
   "execution_count": 9,
   "metadata": {},
   "outputs": [
    {
     "data": {
      "text/html": [
       "<div>\n",
       "<style scoped>\n",
       "    .dataframe tbody tr th:only-of-type {\n",
       "        vertical-align: middle;\n",
       "    }\n",
       "\n",
       "    .dataframe tbody tr th {\n",
       "        vertical-align: top;\n",
       "    }\n",
       "\n",
       "    .dataframe thead th {\n",
       "        text-align: right;\n",
       "    }\n",
       "</style>\n",
       "<table border=\"1\" class=\"dataframe\">\n",
       "  <thead>\n",
       "    <tr style=\"text-align: right;\">\n",
       "      <th></th>\n",
       "      <th>0</th>\n",
       "    </tr>\n",
       "  </thead>\n",
       "  <tbody>\n",
       "    <tr>\n",
       "      <th>0</th>\n",
       "      <td>0.301441</td>\n",
       "    </tr>\n",
       "    <tr>\n",
       "      <th>1</th>\n",
       "      <td>-0.488083</td>\n",
       "    </tr>\n",
       "    <tr>\n",
       "      <th>2</th>\n",
       "      <td>-0.776993</td>\n",
       "    </tr>\n",
       "    <tr>\n",
       "      <th>3</th>\n",
       "      <td>9.235694</td>\n",
       "    </tr>\n",
       "    <tr>\n",
       "      <th>4</th>\n",
       "      <td>9.280580</td>\n",
       "    </tr>\n",
       "    <tr>\n",
       "      <th>...</th>\n",
       "      <td>...</td>\n",
       "    </tr>\n",
       "    <tr>\n",
       "      <th>210</th>\n",
       "      <td>-4.617750</td>\n",
       "    </tr>\n",
       "    <tr>\n",
       "      <th>211</th>\n",
       "      <td>-1.046578</td>\n",
       "    </tr>\n",
       "    <tr>\n",
       "      <th>212</th>\n",
       "      <td>-5.645364</td>\n",
       "    </tr>\n",
       "    <tr>\n",
       "      <th>213</th>\n",
       "      <td>-6.608233</td>\n",
       "    </tr>\n",
       "    <tr>\n",
       "      <th>214</th>\n",
       "      <td>2.167075</td>\n",
       "    </tr>\n",
       "  </tbody>\n",
       "</table>\n",
       "<p>215 rows × 1 columns</p>\n",
       "</div>"
      ],
      "text/plain": [
       "            0\n",
       "0    0.301441\n",
       "1   -0.488083\n",
       "2   -0.776993\n",
       "3    9.235694\n",
       "4    9.280580\n",
       "..        ...\n",
       "210 -4.617750\n",
       "211 -1.046578\n",
       "212 -5.645364\n",
       "213 -6.608233\n",
       "214  2.167075\n",
       "\n",
       "[215 rows x 1 columns]"
      ]
     },
     "execution_count": 9,
     "metadata": {},
     "output_type": "execute_result"
    }
   ],
   "source": [
    "pd.DataFrame(Z[:,1])"
   ]
  },
  {
   "cell_type": "markdown",
   "metadata": {},
   "source": [
    "Visualizing the data after transformation. Plotting PCA1 and PCA2"
   ]
  },
  {
   "cell_type": "code",
   "execution_count": 10,
   "metadata": {},
   "outputs": [
    {
     "data": {
      "image/png": "[encoded data removed]",
      "text/plain": [
       "<Figure size 432x288 with 1 Axes>"
      ]
     },
     "metadata": {
      "needs_background": "light"
     },
     "output_type": "display_data"
    }
   ],
   "source": [
    "plt.scatter(Z[:,0],Z[:,1],c=Y) \n",
    "plt.title(\"Distribution of the data for the 1st and 2nd PCA\")\n",
    "plt.show()"
   ]
  },
  {
   "cell_type": "markdown",
   "metadata": {},
   "source": [
    "## Checking the contribution of PCs"
   ]
  },
  {
   "cell_type": "code",
   "execution_count": 11,
   "metadata": {},
   "outputs": [],
   "source": [
    "e = []\n",
    "for z in Z.T:\n",
    "  e.append(np.var(z))"
   ]
  },
  {
   "cell_type": "markdown",
   "metadata": {},
   "source": [
    "Checking if EigenValues are in the order of Large to Small"
   ]
  },
  {
   "cell_type": "code",
   "execution_count": 12,
   "metadata": {},
   "outputs": [
    {
     "data": {
      "text/html": [
       "<div>\n",
       "<style scoped>\n",
       "    .dataframe tbody tr th:only-of-type {\n",
       "        vertical-align: middle;\n",
       "    }\n",
       "\n",
       "    .dataframe tbody tr th {\n",
       "        vertical-align: top;\n",
       "    }\n",
       "\n",
       "    .dataframe thead th {\n",
       "        text-align: right;\n",
       "    }\n",
       "</style>\n",
       "<table border=\"1\" class=\"dataframe\">\n",
       "  <thead>\n",
       "    <tr style=\"text-align: right;\">\n",
       "      <th></th>\n",
       "      <th>0</th>\n",
       "    </tr>\n",
       "  </thead>\n",
       "  <tbody>\n",
       "    <tr>\n",
       "      <th>0</th>\n",
       "      <td>1.954671e+02</td>\n",
       "    </tr>\n",
       "    <tr>\n",
       "      <th>1</th>\n",
       "      <td>1.160985e+01</td>\n",
       "    </tr>\n",
       "    <tr>\n",
       "      <th>2</th>\n",
       "      <td>8.937376e+00</td>\n",
       "    </tr>\n",
       "    <tr>\n",
       "      <th>3</th>\n",
       "      <td>6.206673e+00</td>\n",
       "    </tr>\n",
       "    <tr>\n",
       "      <th>4</th>\n",
       "      <td>4.054889e+00</td>\n",
       "    </tr>\n",
       "    <tr>\n",
       "      <th>...</th>\n",
       "      <td>...</td>\n",
       "    </tr>\n",
       "    <tr>\n",
       "      <th>210</th>\n",
       "      <td>3.289014e-03</td>\n",
       "    </tr>\n",
       "    <tr>\n",
       "      <th>211</th>\n",
       "      <td>3.242773e-03</td>\n",
       "    </tr>\n",
       "    <tr>\n",
       "      <th>212</th>\n",
       "      <td>2.947184e-03</td>\n",
       "    </tr>\n",
       "    <tr>\n",
       "      <th>213</th>\n",
       "      <td>2.452537e-03</td>\n",
       "    </tr>\n",
       "    <tr>\n",
       "      <th>214</th>\n",
       "      <td>1.032605e-30</td>\n",
       "    </tr>\n",
       "  </tbody>\n",
       "</table>\n",
       "<p>215 rows × 1 columns</p>\n",
       "</div>"
      ],
      "text/plain": [
       "                0\n",
       "0    1.954671e+02\n",
       "1    1.160985e+01\n",
       "2    8.937376e+00\n",
       "3    6.206673e+00\n",
       "4    4.054889e+00\n",
       "..            ...\n",
       "210  3.289014e-03\n",
       "211  3.242773e-03\n",
       "212  2.947184e-03\n",
       "213  2.452537e-03\n",
       "214  1.032605e-30\n",
       "\n",
       "[215 rows x 1 columns]"
      ]
     },
     "execution_count": 12,
     "metadata": {},
     "output_type": "execute_result"
    }
   ],
   "source": [
    "pd.DataFrame(e)"
   ]
  },
  {
   "cell_type": "code",
   "execution_count": 13,
   "metadata": {},
   "outputs": [],
   "source": [
    "contributions = []\n",
    "for i in range(Z.shape[1]):\n",
    "  contributions.append(np.sum(e[:i+1]) / np.sum(e))"
   ]
  },
  {
   "cell_type": "code",
   "execution_count": 14,
   "metadata": {},
   "outputs": [
    {
     "data": {
      "image/png": "[encoded data removed]",
      "text/plain": [
       "<Figure size 720x432 with 1 Axes>"
      ]
     },
     "metadata": {
      "needs_background": "light"
     },
     "output_type": "display_data"
    }
   ],
   "source": [
    "plt.figure(figsize=(10,6))\n",
    "plt.plot(list(range(1, 216)), [i*100 for i in contributions])\n",
    "plt.title(\"Contribution of the PCs to the data\")\n",
    "plt.xlabel(\"Number of PCs\")\n",
    "plt.ylabel(\"Contribution\")\n",
    "plt.grid()\n",
    "plt.xticks(list(range(1,216)))\n",
    "plt.show()"
   ]
  },
  {
   "cell_type": "markdown",
   "metadata": {},
   "source": [
    "Contribution from 10 PCA "
   ]
  },
  {
   "cell_type": "code",
   "execution_count": 17,
   "metadata": {},
   "outputs": [
    {
     "data": {
      "text/plain": [
       "0.9721612152100318"
      ]
     },
     "execution_count": 17,
     "metadata": {},
     "output_type": "execute_result"
    }
   ],
   "source": [
    "contribution=(e[0]+e[1]+e[2]+e[3]+e[4]+e[5]+e[6]+e[7]+e[8]+e[9])/(np.sum(e))\n",
    "contribution"
   ]
  },
  {
   "cell_type": "markdown",
   "metadata": {},
   "source": [
    "# ANN model"
   ]
  },
  {
   "cell_type": "markdown",
   "metadata": {},
   "source": [
    "The first 10 PCs are taken as input to the model"
   ]
  },
  {
   "cell_type": "code",
   "execution_count": 18,
   "metadata": {},
   "outputs": [],
   "source": [
    "inputs= Z[:, 0:10]"
   ]
  },
  {
   "cell_type": "markdown",
   "metadata": {},
   "source": [
    "Splitting the data to the trainingset and testse"
   ]
  },
  {
   "cell_type": "code",
   "execution_count": 19,
   "metadata": {},
   "outputs": [],
   "source": [
    "from sklearn.model_selection import train_test_split\n",
    "X_train, X_test, Y_train, Y_test = train_test_split(inputs, Y, test_size = 0.2, random_state = 0)"
   ]
  },
  {
   "cell_type": "markdown",
   "metadata": {},
   "source": [
    "Feature scaling"
   ]
  },
  {
   "cell_type": "code",
   "execution_count": 20,
   "metadata": {},
   "outputs": [],
   "source": [
    "from sklearn.preprocessing import StandardScaler\n",
    "sc = StandardScaler()\n",
    "X_train = sc.fit_transform(X_train)\n",
    "X_test = sc.transform(X_test)"
   ]
  },
  {
   "cell_type": "markdown",
   "metadata": {},
   "source": [
    "Building the model"
   ]
  },
  {
   "cell_type": "code",
   "execution_count": 21,
   "metadata": {},
   "outputs": [
    {
     "name": "stdout",
     "output_type": "stream",
     "text": [
      "Epoch 1/100\n",
      "22/22 [==============================] - 1s 1ms/step - loss: 0.6852 - accuracy: 0.5291\n",
      "Epoch 2/100\n",
      "22/22 [==============================] - 0s 1ms/step - loss: 0.6438 - accuracy: 0.6512\n",
      "Epoch 3/100\n",
      "22/22 [==============================] - 0s 1ms/step - loss: 0.6086 - accuracy: 0.7093\n",
      "Epoch 4/100\n",
      "22/22 [==============================] - 0s 947us/step - loss: 0.5791 - accuracy: 0.7151\n",
      "Epoch 5/100\n",
      "22/22 [==============================] - 0s 902us/step - loss: 0.5457 - accuracy: 0.7267\n",
      "Epoch 6/100\n",
      "22/22 [==============================] - 0s 904us/step - loss: 0.5119 - accuracy: 0.7558\n",
      "Epoch 7/100\n",
      "22/22 [==============================] - 0s 902us/step - loss: 0.4756 - accuracy: 0.7849\n",
      "Epoch 8/100\n",
      "22/22 [==============================] - 0s 950us/step - loss: 0.4394 - accuracy: 0.8140\n",
      "Epoch 9/100\n",
      "22/22 [==============================] - 0s 950us/step - loss: 0.4018 - accuracy: 0.8488\n",
      "Epoch 10/100\n",
      "22/22 [==============================] - 0s 855us/step - loss: 0.3643 - accuracy: 0.8663\n",
      "Epoch 11/100\n",
      "22/22 [==============================] - 0s 855us/step - loss: 0.3262 - accuracy: 0.9070\n",
      "Epoch 12/100\n",
      "22/22 [==============================] - 0s 952us/step - loss: 0.2901 - accuracy: 0.9244\n",
      "Epoch 13/100\n",
      "22/22 [==============================] - 0s 934us/step - loss: 0.2557 - accuracy: 0.9419\n",
      "Epoch 14/100\n",
      "22/22 [==============================] - 0s 902us/step - loss: 0.2244 - accuracy: 0.9477\n",
      "Epoch 15/100\n",
      "22/22 [==============================] - 0s 903us/step - loss: 0.1967 - accuracy: 0.9477\n",
      "Epoch 16/100\n",
      "22/22 [==============================] - 0s 950us/step - loss: 0.1734 - accuracy: 0.9593\n",
      "Epoch 17/100\n",
      "22/22 [==============================] - 0s 950us/step - loss: 0.1545 - accuracy: 0.9593\n",
      "Epoch 18/100\n",
      "22/22 [==============================] - 0s 963us/step - loss: 0.1384 - accuracy: 0.9593\n",
      "Epoch 19/100\n",
      "22/22 [==============================] - 0s 902us/step - loss: 0.1254 - accuracy: 0.9709\n",
      "Epoch 20/100\n",
      "22/22 [==============================] - 0s 902us/step - loss: 0.1131 - accuracy: 0.9709\n",
      "Epoch 21/100\n",
      "22/22 [==============================] - 0s 983us/step - loss: 0.1034 - accuracy: 0.9767\n",
      "Epoch 22/100\n",
      "22/22 [==============================] - 0s 902us/step - loss: 0.0949 - accuracy: 0.9767\n",
      "Epoch 23/100\n",
      "22/22 [==============================] - 0s 1ms/step - loss: 0.0878 - accuracy: 0.9767\n",
      "Epoch 24/100\n",
      "22/22 [==============================] - 0s 950us/step - loss: 0.0817 - accuracy: 0.9767\n",
      "Epoch 25/100\n",
      "22/22 [==============================] - 0s 1ms/step - loss: 0.0772 - accuracy: 0.9767\n",
      "Epoch 26/100\n",
      "22/22 [==============================] - 0s 1ms/step - loss: 0.0721 - accuracy: 0.9767\n",
      "Epoch 27/100\n",
      "22/22 [==============================] - 0s 904us/step - loss: 0.0679 - accuracy: 0.9767\n",
      "Epoch 28/100\n",
      "22/22 [==============================] - 0s 950us/step - loss: 0.0633 - accuracy: 0.9884\n",
      "Epoch 29/100\n",
      "22/22 [==============================] - 0s 902us/step - loss: 0.0593 - accuracy: 0.9884\n",
      "Epoch 30/100\n",
      "22/22 [==============================] - 0s 950us/step - loss: 0.0566 - accuracy: 0.9884\n",
      "Epoch 31/100\n",
      "22/22 [==============================] - 0s 902us/step - loss: 0.0530 - accuracy: 0.9884\n",
      "Epoch 32/100\n",
      "22/22 [==============================] - 0s 997us/step - loss: 0.0497 - accuracy: 0.9884\n",
      "Epoch 33/100\n",
      "22/22 [==============================] - 0s 948us/step - loss: 0.0471 - accuracy: 0.9884\n",
      "Epoch 34/100\n",
      "22/22 [==============================] - 0s 949us/step - loss: 0.0438 - accuracy: 0.9884\n",
      "Epoch 35/100\n",
      "22/22 [==============================] - 0s 997us/step - loss: 0.0408 - accuracy: 0.9884\n",
      "Epoch 36/100\n",
      "22/22 [==============================] - 0s 949us/step - loss: 0.0381 - accuracy: 0.9884\n",
      "Epoch 37/100\n",
      "22/22 [==============================] - 0s 997us/step - loss: 0.0353 - accuracy: 0.9942\n",
      "Epoch 38/100\n",
      "22/22 [==============================] - 0s 1ms/step - loss: 0.0329 - accuracy: 0.9942\n",
      "Epoch 39/100\n",
      "22/22 [==============================] - 0s 950us/step - loss: 0.0311 - accuracy: 0.9942\n",
      "Epoch 40/100\n",
      "22/22 [==============================] - 0s 855us/step - loss: 0.0292 - accuracy: 0.9942\n",
      "Epoch 41/100\n",
      "22/22 [==============================] - 0s 979us/step - loss: 0.0276 - accuracy: 0.9942\n",
      "Epoch 42/100\n",
      "22/22 [==============================] - 0s 1ms/step - loss: 0.0261 - accuracy: 0.9942\n",
      "Epoch 43/100\n",
      "22/22 [==============================] - 0s 902us/step - loss: 0.0248 - accuracy: 0.9942\n",
      "Epoch 44/100\n",
      "22/22 [==============================] - 0s 997us/step - loss: 0.0228 - accuracy: 0.9942\n",
      "Epoch 45/100\n",
      "22/22 [==============================] - 0s 902us/step - loss: 0.0216 - accuracy: 0.9942\n",
      "Epoch 46/100\n",
      "22/22 [==============================] - 0s 950us/step - loss: 0.0200 - accuracy: 0.9942\n",
      "Epoch 47/100\n",
      "22/22 [==============================] - 0s 997us/step - loss: 0.0192 - accuracy: 0.9942\n",
      "Epoch 48/100\n",
      "22/22 [==============================] - 0s 950us/step - loss: 0.0180 - accuracy: 0.9942\n",
      "Epoch 49/100\n",
      "22/22 [==============================] - 0s 950us/step - loss: 0.0166 - accuracy: 1.0000\n",
      "Epoch 50/100\n",
      "22/22 [==============================] - 0s 944us/step - loss: 0.0161 - accuracy: 1.0000\n",
      "Epoch 51/100\n",
      "22/22 [==============================] - 0s 855us/step - loss: 0.0148 - accuracy: 1.0000\n",
      "Epoch 52/100\n",
      "22/22 [==============================] - 0s 971us/step - loss: 0.0141 - accuracy: 1.0000\n",
      "Epoch 53/100\n",
      "22/22 [==============================] - 0s 1ms/step - loss: 0.0132 - accuracy: 1.0000\n",
      "Epoch 54/100\n",
      "22/22 [==============================] - 0s 991us/step - loss: 0.0127 - accuracy: 1.0000\n",
      "Epoch 55/100\n",
      "22/22 [==============================] - 0s 933us/step - loss: 0.0123 - accuracy: 1.0000\n",
      "Epoch 56/100\n",
      "22/22 [==============================] - 0s 951us/step - loss: 0.0114 - accuracy: 1.0000\n",
      "Epoch 57/100\n",
      "22/22 [==============================] - 0s 856us/step - loss: 0.0106 - accuracy: 1.0000\n",
      "Epoch 58/100\n",
      "22/22 [==============================] - 0s 855us/step - loss: 0.0101 - accuracy: 1.0000\n",
      "Epoch 59/100\n",
      "22/22 [==============================] - 0s 904us/step - loss: 0.0096 - accuracy: 1.0000\n",
      "Epoch 60/100\n",
      "22/22 [==============================] - 0s 901us/step - loss: 0.0092 - accuracy: 1.0000\n",
      "Epoch 61/100\n",
      "22/22 [==============================] - 0s 902us/step - loss: 0.0086 - accuracy: 1.0000\n",
      "Epoch 62/100\n",
      "22/22 [==============================] - 0s 950us/step - loss: 0.0081 - accuracy: 1.0000\n",
      "Epoch 63/100\n",
      "22/22 [==============================] - 0s 969us/step - loss: 0.0077 - accuracy: 1.0000\n",
      "Epoch 64/100\n",
      "22/22 [==============================] - 0s 924us/step - loss: 0.0073 - accuracy: 1.0000\n",
      "Epoch 65/100\n",
      "22/22 [==============================] - 0s 902us/step - loss: 0.0070 - accuracy: 1.0000\n",
      "Epoch 66/100\n",
      "22/22 [==============================] - 0s 1ms/step - loss: 0.0066 - accuracy: 1.0000\n",
      "Epoch 67/100\n",
      "22/22 [==============================] - 0s 985us/step - loss: 0.0063 - accuracy: 1.0000\n",
      "Epoch 68/100\n",
      "22/22 [==============================] - 0s 884us/step - loss: 0.0061 - accuracy: 1.0000\n",
      "Epoch 69/100\n",
      "22/22 [==============================] - 0s 856us/step - loss: 0.0058 - accuracy: 1.0000\n",
      "Epoch 70/100\n",
      "22/22 [==============================] - 0s 855us/step - loss: 0.0055 - accuracy: 1.0000\n",
      "Epoch 71/100\n",
      "22/22 [==============================] - 0s 950us/step - loss: 0.0053 - accuracy: 1.0000\n",
      "Epoch 72/100\n",
      "22/22 [==============================] - 0s 952us/step - loss: 0.0050 - accuracy: 1.0000\n",
      "Epoch 73/100\n",
      "22/22 [==============================] - 0s 1ms/step - loss: 0.0049 - accuracy: 1.0000\n",
      "Epoch 74/100\n",
      "22/22 [==============================] - 0s 950us/step - loss: 0.0046 - accuracy: 1.0000\n",
      "Epoch 75/100\n",
      "22/22 [==============================] - 0s 908us/step - loss: 0.0044 - accuracy: 1.0000\n",
      "Epoch 76/100\n",
      "22/22 [==============================] - 0s 951us/step - loss: 0.0042 - accuracy: 1.0000\n",
      "Epoch 77/100\n",
      "22/22 [==============================] - 0s 958us/step - loss: 0.0040 - accuracy: 1.0000\n",
      "Epoch 78/100\n",
      "22/22 [==============================] - 0s 950us/step - loss: 0.0039 - accuracy: 1.0000\n",
      "Epoch 79/100\n",
      "22/22 [==============================] - 0s 950us/step - loss: 0.0037 - accuracy: 1.0000\n",
      "Epoch 80/100\n",
      "22/22 [==============================] - 0s 997us/step - loss: 0.0036 - accuracy: 1.0000\n",
      "Epoch 81/100\n",
      "22/22 [==============================] - 0s 997us/step - loss: 0.0034 - accuracy: 1.0000\n",
      "Epoch 82/100\n",
      "22/22 [==============================] - 0s 950us/step - loss: 0.0033 - accuracy: 1.0000\n",
      "Epoch 83/100\n",
      "22/22 [==============================] - 0s 950us/step - loss: 0.0031 - accuracy: 1.0000\n",
      "Epoch 84/100\n",
      "22/22 [==============================] - 0s 950us/step - loss: 0.0030 - accuracy: 1.0000\n",
      "Epoch 85/100\n",
      "22/22 [==============================] - 0s 1ms/step - loss: 0.0029 - accuracy: 1.0000\n",
      "Epoch 86/100\n",
      "22/22 [==============================] - 0s 1ms/step - loss: 0.0028 - accuracy: 1.0000\n",
      "Epoch 87/100\n",
      "22/22 [==============================] - 0s 1ms/step - loss: 0.0027 - accuracy: 1.0000\n",
      "Epoch 88/100\n",
      "22/22 [==============================] - 0s 1ms/step - loss: 0.0026 - accuracy: 1.0000\n",
      "Epoch 89/100\n",
      "22/22 [==============================] - 0s 1ms/step - loss: 0.0025 - accuracy: 1.0000\n",
      "Epoch 90/100\n",
      "22/22 [==============================] - 0s 1ms/step - loss: 0.0024 - accuracy: 1.0000\n",
      "Epoch 91/100\n",
      "22/22 [==============================] - 0s 1ms/step - loss: 0.0023 - accuracy: 1.0000\n",
      "Epoch 92/100\n",
      "22/22 [==============================] - 0s 949us/step - loss: 0.0023 - accuracy: 1.0000\n",
      "Epoch 93/100\n",
      "22/22 [==============================] - 0s 926us/step - loss: 0.0022 - accuracy: 1.0000\n",
      "Epoch 94/100\n",
      "22/22 [==============================] - 0s 913us/step - loss: 0.0021 - accuracy: 1.0000\n",
      "Epoch 95/100\n",
      "22/22 [==============================] - 0s 950us/step - loss: 0.0020 - accuracy: 1.0000\n",
      "Epoch 96/100\n",
      "22/22 [==============================] - 0s 969us/step - loss: 0.0020 - accuracy: 1.0000\n",
      "Epoch 97/100\n",
      "22/22 [==============================] - 0s 904us/step - loss: 0.0019 - accuracy: 1.0000\n",
      "Epoch 98/100\n",
      "22/22 [==============================] - 0s 902us/step - loss: 0.0019 - accuracy: 1.0000\n",
      "Epoch 99/100\n",
      "22/22 [==============================] - 0s 904us/step - loss: 0.0018 - accuracy: 1.0000\n",
      "Epoch 100/100\n",
      "22/22 [==============================] - 0s 902us/step - loss: 0.0017 - accuracy: 1.0000\n"
     ]
    },
    {
     "data": {
      "text/plain": [
       "<keras.callbacks.History at 0x1bb81ea6fd0>"
      ]
     },
     "execution_count": 21,
     "metadata": {},
     "output_type": "execute_result"
    }
   ],
   "source": [
    "GlueModel=tf.keras.models.Sequential()\n",
    "GlueModel.add(tf.keras.layers.Dense(10,activation='relu'))\n",
    "GlueModel.add(tf.keras.layers.Dense(20,activation='relu'))\n",
    "GlueModel.add(tf.keras.layers.Dense(2,activation='softmax'))\n",
    "GlueModel.compile(optimizer = 'adam', loss = 'sparse_categorical_crossentropy', metrics = ['accuracy'])\n",
    "GlueModel.fit(X_train, Y_train, batch_size = 8, epochs = 100)"
   ]
  },
  {
   "cell_type": "markdown",
   "metadata": {},
   "source": [
    "Evaluating the model over the test set"
   ]
  },
  {
   "cell_type": "code",
   "execution_count": 22,
   "metadata": {},
   "outputs": [
    {
     "name": "stdout",
     "output_type": "stream",
     "text": [
      "2/2 [==============================] - 0s 2ms/step - loss: 0.3508 - accuracy: 0.9302\n"
     ]
    },
    {
     "data": {
      "text/plain": [
       "[0.35079020261764526, 0.930232584476471]"
      ]
     },
     "execution_count": 22,
     "metadata": {},
     "output_type": "execute_result"
    }
   ],
   "source": [
    "GlueModel.evaluate(X_test,Y_test)"
   ]
  },
  {
   "cell_type": "markdown",
   "metadata": {},
   "source": [
    "Comment : \n",
    "1. First 10PCA cotributed to 97% of data. Using these 10PCA. Using the ANN classifier by taking first 10 PCA as input gave a model accuracy of 93% which is really good. \n",
    "2.  PCA performs a linear transformation and PCA can be used to remove dimensions that have strong correlations before PCA transformation. However not every ttime PCA is a good option as logistic regression may be better for some cases. \n",
    "3. For the cancer model, since we have so many variables we cannot say which variable affects accuracy, using PCA in tandem with ML models will give better results."
   ]
  }
 ],
 "metadata": {
  "colab": {
   "collapsed_sections": [],
   "name": "artificial_neural_network.ipynb",
   "provenance": [],
   "toc_visible": true
  },
  "kernelspec": {
   "display_name": "Python 3 (ipykernel)",
   "language": "python",
   "name": "python3"
  },
  "language_info": {
   "codemirror_mode": {
    "name": "ipython",
    "version": 3
   },
   "file_extension": ".py",
   "mimetype": "text/x-python",
   "name": "python",
   "nbconvert_exporter": "python",
   "pygments_lexer": "ipython3",
   "version": "3.9.12"
  },
  "toc": {
   "base_numbering": 1,
   "nav_menu": {},
   "number_sections": true,
   "sideBar": true,
   "skip_h1_title": false,
   "title_cell": "Table of Contents",
   "title_sidebar": "Contents",
   "toc_cell": false,
   "toc_position": {
    "height": "calc(100% - 180px)",
    "left": "10px",
    "top": "150px",
    "width": "311.973px"
   },
   "toc_section_display": true,
   "toc_window_display": true
  },
  "varInspector": {
   "cols": {
    "lenName": 16,
    "lenType": 16,
    "lenVar": 40
   },
   "kernels_config": {
    "python": {
     "delete_cmd_postfix": "",
     "delete_cmd_prefix": "del ",
     "library": "var_list.py",
     "varRefreshCmd": "print(var_dic_list())"
    },
    "r": {
     "delete_cmd_postfix": ") ",
     "delete_cmd_prefix": "rm(",
     "library": "var_list.r",
     "varRefreshCmd": "cat(var_dic_list()) "
    }
   },
   "types_to_exclude": [
    "module",
    "function",
    "builtin_function_or_method",
    "instance",
    "_Feature"
   ],
   "window_display": false
  }
 },
 "nbformat": 4,
 "nbformat_minor": 1
}
