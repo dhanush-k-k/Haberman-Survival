{
 "cells": [
  {
   "cell_type": "markdown",
   "id": "bb107270",
   "metadata": {
    "id": "6eguLfgdyoYw"
   },
   "source": [
    "# About the Data\n",
    "\n",
    "Source : https://archive.ics.uci.edu/ml/datasets/Haberman%27s+Survival\n",
    "\n",
    " <font size=\"5\"><b>Haberman's Survival Data Set</b></font>\n",
    "\n",
    "The dataset contains cases from a study that was conducted between 1958 and 1970 at the University of Chicago's Billings Hospital on the survival of patients who had undergone surgery for breast cancer.\n",
    "\n",
    "<font size=\"4\"><b>Attribute's Information:</b></font>\n",
    "\n",
    "1. Age of patient at time of operation (numerical)\n",
    "2. Patient's year of operation (year - 1900, numerical)\n",
    "3. Number of positive axillary nodes detected (numerical)\n",
    "4. Survival status (class attribute)\n",
    "-- 1 = the patient survived 5 years or longer\n",
    "-- 2 = the patient died within 5 year"
   ]
  },
  {
   "cell_type": "markdown",
   "id": "5e2e694f",
   "metadata": {},
   "source": [
    "# Importing the basic libraries"
   ]
  },
  {
   "cell_type": "code",
   "execution_count": 1,
   "id": "07c02f28",
   "metadata": {
    "id": "kY7AY0ZqytMg"
   },
   "outputs": [],
   "source": [
    "import numpy as np\n",
    "import pandas as pd\n",
    "import matplotlib.pyplot as plt\n",
    "from seaborn import heatmap\n",
    "from sklearn.model_selection import train_test_split\n",
    "from sklearn.preprocessing import StandardScaler\n",
    "from sklearn.metrics import accuracy_score\n",
    "import seaborn as sb"
   ]
  },
  {
   "cell_type": "markdown",
   "id": "dcb00d1b",
   "metadata": {
    "id": "-ixqrGooyyiS"
   },
   "source": [
    "## Importing the data"
   ]
  },
  {
   "cell_type": "code",
   "execution_count": 2,
   "id": "927dd5d2",
   "metadata": {
    "id": "PeSpLStXyxdF"
   },
   "outputs": [],
   "source": [
    "Haberman_Data = pd.read_csv('Haberman.csv')"
   ]
  },
  {
   "cell_type": "code",
   "execution_count": 3,
   "id": "05987500",
   "metadata": {},
   "outputs": [
    {
     "data": {
      "text/html": [
       "<div>\n",
       "<style scoped>\n",
       "    .dataframe tbody tr th:only-of-type {\n",
       "        vertical-align: middle;\n",
       "    }\n",
       "\n",
       "    .dataframe tbody tr th {\n",
       "        vertical-align: top;\n",
       "    }\n",
       "\n",
       "    .dataframe thead th {\n",
       "        text-align: right;\n",
       "    }\n",
       "</style>\n",
       "<table border=\"1\" class=\"dataframe\">\n",
       "  <thead>\n",
       "    <tr style=\"text-align: right;\">\n",
       "      <th></th>\n",
       "      <th>patient_age_operation</th>\n",
       "      <th>patient_year_operation</th>\n",
       "      <th>auxillary_nodes</th>\n",
       "      <th>survival_status</th>\n",
       "    </tr>\n",
       "  </thead>\n",
       "  <tbody>\n",
       "    <tr>\n",
       "      <th>0</th>\n",
       "      <td>30</td>\n",
       "      <td>64</td>\n",
       "      <td>1</td>\n",
       "      <td>1</td>\n",
       "    </tr>\n",
       "    <tr>\n",
       "      <th>1</th>\n",
       "      <td>30</td>\n",
       "      <td>62</td>\n",
       "      <td>3</td>\n",
       "      <td>1</td>\n",
       "    </tr>\n",
       "    <tr>\n",
       "      <th>2</th>\n",
       "      <td>30</td>\n",
       "      <td>65</td>\n",
       "      <td>0</td>\n",
       "      <td>1</td>\n",
       "    </tr>\n",
       "    <tr>\n",
       "      <th>3</th>\n",
       "      <td>31</td>\n",
       "      <td>59</td>\n",
       "      <td>2</td>\n",
       "      <td>1</td>\n",
       "    </tr>\n",
       "    <tr>\n",
       "      <th>4</th>\n",
       "      <td>31</td>\n",
       "      <td>65</td>\n",
       "      <td>4</td>\n",
       "      <td>1</td>\n",
       "    </tr>\n",
       "    <tr>\n",
       "      <th>...</th>\n",
       "      <td>...</td>\n",
       "      <td>...</td>\n",
       "      <td>...</td>\n",
       "      <td>...</td>\n",
       "    </tr>\n",
       "    <tr>\n",
       "      <th>301</th>\n",
       "      <td>75</td>\n",
       "      <td>62</td>\n",
       "      <td>1</td>\n",
       "      <td>1</td>\n",
       "    </tr>\n",
       "    <tr>\n",
       "      <th>302</th>\n",
       "      <td>76</td>\n",
       "      <td>67</td>\n",
       "      <td>0</td>\n",
       "      <td>1</td>\n",
       "    </tr>\n",
       "    <tr>\n",
       "      <th>303</th>\n",
       "      <td>77</td>\n",
       "      <td>65</td>\n",
       "      <td>3</td>\n",
       "      <td>1</td>\n",
       "    </tr>\n",
       "    <tr>\n",
       "      <th>304</th>\n",
       "      <td>78</td>\n",
       "      <td>65</td>\n",
       "      <td>1</td>\n",
       "      <td>2</td>\n",
       "    </tr>\n",
       "    <tr>\n",
       "      <th>305</th>\n",
       "      <td>83</td>\n",
       "      <td>58</td>\n",
       "      <td>2</td>\n",
       "      <td>2</td>\n",
       "    </tr>\n",
       "  </tbody>\n",
       "</table>\n",
       "<p>306 rows × 4 columns</p>\n",
       "</div>"
      ],
      "text/plain": [
       "     patient_age_operation  patient_year_operation  auxillary_nodes  \\\n",
       "0                       30                      64                1   \n",
       "1                       30                      62                3   \n",
       "2                       30                      65                0   \n",
       "3                       31                      59                2   \n",
       "4                       31                      65                4   \n",
       "..                     ...                     ...              ...   \n",
       "301                     75                      62                1   \n",
       "302                     76                      67                0   \n",
       "303                     77                      65                3   \n",
       "304                     78                      65                1   \n",
       "305                     83                      58                2   \n",
       "\n",
       "     survival_status  \n",
       "0                  1  \n",
       "1                  1  \n",
       "2                  1  \n",
       "3                  1  \n",
       "4                  1  \n",
       "..               ...  \n",
       "301                1  \n",
       "302                1  \n",
       "303                1  \n",
       "304                2  \n",
       "305                2  \n",
       "\n",
       "[306 rows x 4 columns]"
      ]
     },
     "execution_count": 3,
     "metadata": {},
     "output_type": "execute_result"
    }
   ],
   "source": [
    "pd.DataFrame(Haberman_Data)"
   ]
  },
  {
   "cell_type": "markdown",
   "id": "6e80cd62",
   "metadata": {},
   "source": [
    "### Review Dataset"
   ]
  },
  {
   "cell_type": "code",
   "execution_count": 4,
   "id": "caef0873",
   "metadata": {
    "colab": {
     "base_uri": "https://localhost:8080/"
    },
    "id": "R0FxO_JQy2ch",
    "outputId": "bd140adc-79b9-49d0-8a3f-a1c389d2b573"
   },
   "outputs": [
    {
     "name": "stdout",
     "output_type": "stream",
     "text": [
      "<class 'pandas.core.frame.DataFrame'>\n",
      "RangeIndex: 306 entries, 0 to 305\n",
      "Data columns (total 4 columns):\n",
      " #   Column                  Non-Null Count  Dtype\n",
      "---  ------                  --------------  -----\n",
      " 0   patient_age_operation   306 non-null    int64\n",
      " 1   patient_year_operation  306 non-null    int64\n",
      " 2   auxillary_nodes         306 non-null    int64\n",
      " 3   survival_status         306 non-null    int64\n",
      "dtypes: int64(4)\n",
      "memory usage: 9.7 KB\n"
     ]
    }
   ],
   "source": [
    "Haberman_Data.info()"
   ]
  },
  {
   "cell_type": "markdown",
   "id": "eda13778",
   "metadata": {
    "id": "1A4r-jZDQ_i4"
   },
   "source": [
    "## Cleaning the data from the outliers"
   ]
  },
  {
   "cell_type": "markdown",
   "id": "57d2af3c",
   "metadata": {
    "id": "Xoz76-AyZwaq"
   },
   "source": [
    "### Box plots before and after cleaning the data"
   ]
  },
  {
   "cell_type": "markdown",
   "id": "b8372629",
   "metadata": {},
   "source": [
    "### Before cleaning the data - patient_age_operation"
   ]
  },
  {
   "cell_type": "code",
   "execution_count": 5,
   "id": "b8411f82",
   "metadata": {
    "colab": {
     "base_uri": "https://localhost:8080/",
     "height": 171
    },
    "id": "TpRb5KguZlrC",
    "outputId": "005256b2-27a9-4ac0-d3db-f15305b5a4a3"
   },
   "outputs": [
    {
     "data": {
      "text/plain": [
       "<AxesSubplot:xlabel='survival_status', ylabel='patient_age_operation'>"
      ]
     },
     "execution_count": 5,
     "metadata": {},
     "output_type": "execute_result"
    },
    {
     "data": {
      "image/png": "[encoded data removed]",
      "text/plain": [
       "<Figure size 432x288 with 1 Axes>"
      ]
     },
     "metadata": {
      "needs_background": "light"
     },
     "output_type": "display_data"
    }
   ],
   "source": [
    "sb.boxplot(x='survival_status', y='patient_age_operation', data=Haberman_Data)"
   ]
  },
  {
   "cell_type": "markdown",
   "id": "16635113",
   "metadata": {},
   "source": [
    "### Before cleaning the data - patient_year_operation"
   ]
  },
  {
   "cell_type": "code",
   "execution_count": 6,
   "id": "fd80d021",
   "metadata": {
    "id": "hhJbnRTbZpcq"
   },
   "outputs": [
    {
     "data": {
      "text/plain": [
       "<AxesSubplot:xlabel='survival_status', ylabel='patient_year_operation'>"
      ]
     },
     "execution_count": 6,
     "metadata": {},
     "output_type": "execute_result"
    },
    {
     "data": {
      "image/png": "[encoded data removed]",
      "text/plain": [
       "<Figure size 432x288 with 1 Axes>"
      ]
     },
     "metadata": {
      "needs_background": "light"
     },
     "output_type": "display_data"
    }
   ],
   "source": [
    "sb.boxplot(x='survival_status', y='patient_year_operation', data=Haberman_Data)"
   ]
  },
  {
   "cell_type": "markdown",
   "id": "7e625764",
   "metadata": {},
   "source": [
    "### Before cleaning the data - auxillary_nodes"
   ]
  },
  {
   "cell_type": "code",
   "execution_count": 7,
   "id": "3721e165",
   "metadata": {},
   "outputs": [
    {
     "data": {
      "text/plain": [
       "<AxesSubplot:xlabel='survival_status', ylabel='auxillary_nodes'>"
      ]
     },
     "execution_count": 7,
     "metadata": {},
     "output_type": "execute_result"
    },
    {
     "data": {
      "image/png": "[encoded data removed]",
      "text/plain": [
       "<Figure size 432x288 with 1 Axes>"
      ]
     },
     "metadata": {
      "needs_background": "light"
     },
     "output_type": "display_data"
    }
   ],
   "source": [
    "sb.boxplot(x='survival_status', y='auxillary_nodes', data=Haberman_Data)"
   ]
  },
  {
   "cell_type": "markdown",
   "id": "92a6253a",
   "metadata": {
    "id": "eXM3ZOaoZy7K"
   },
   "source": [
    "Now, let's clean the data"
   ]
  },
  {
   "cell_type": "markdown",
   "id": "3e1eac54",
   "metadata": {},
   "source": [
    "### Cleaning the attribute - auxillary_nodes"
   ]
  },
  {
   "cell_type": "code",
   "execution_count": 8,
   "id": "bb8a3eb9",
   "metadata": {},
   "outputs": [],
   "source": [
    "Haberman_Data = Haberman_Data[((Haberman_Data['auxillary_nodes']<3) & (Haberman_Data['survival_status']==1)) | ((Haberman_Data['auxillary_nodes']<30) & (Haberman_Data['survival_status']==2))]"
   ]
  },
  {
   "cell_type": "code",
   "execution_count": 9,
   "id": "5277cdb5",
   "metadata": {},
   "outputs": [
    {
     "data": {
      "text/plain": [
       "<AxesSubplot:xlabel='survival_status', ylabel='auxillary_nodes'>"
      ]
     },
     "execution_count": 9,
     "metadata": {},
     "output_type": "execute_result"
    },
    {
     "data": {
      "image/png": "[encoded data removed]",
      "text/plain": [
       "<Figure size 432x288 with 1 Axes>"
      ]
     },
     "metadata": {
      "needs_background": "light"
     },
     "output_type": "display_data"
    }
   ],
   "source": [
    "sb.boxplot(x='survival_status', y='auxillary_nodes', data=Haberman_Data)"
   ]
  },
  {
   "cell_type": "markdown",
   "id": "95865ed4",
   "metadata": {},
   "source": [
    "### Checking the Data once again after removing outliers"
   ]
  },
  {
   "cell_type": "code",
   "execution_count": 10,
   "id": "f6163a58",
   "metadata": {},
   "outputs": [
    {
     "name": "stdout",
     "output_type": "stream",
     "text": [
      "<class 'pandas.core.frame.DataFrame'>\n",
      "Int64Index: 244 entries, 0 to 305\n",
      "Data columns (total 4 columns):\n",
      " #   Column                  Non-Null Count  Dtype\n",
      "---  ------                  --------------  -----\n",
      " 0   patient_age_operation   244 non-null    int64\n",
      " 1   patient_year_operation  244 non-null    int64\n",
      " 2   auxillary_nodes         244 non-null    int64\n",
      " 3   survival_status         244 non-null    int64\n",
      "dtypes: int64(4)\n",
      "memory usage: 9.5 KB\n"
     ]
    }
   ],
   "source": [
    "Haberman_Data.info()"
   ]
  },
  {
   "cell_type": "markdown",
   "id": "6d9be821",
   "metadata": {
    "id": "es7Zx-36107N"
   },
   "source": [
    "## Exploring the data"
   ]
  },
  {
   "cell_type": "markdown",
   "id": "f5920031",
   "metadata": {},
   "source": [
    " <font size=\"4\"><b>Getting some insights by plotting differnet variables</b></font>"
   ]
  },
  {
   "cell_type": "markdown",
   "id": "571abc38",
   "metadata": {},
   "source": [
    "### Histogram Plot"
   ]
  },
  {
   "cell_type": "markdown",
   "id": "5353553c",
   "metadata": {},
   "source": [
    "These plots give us an understanding of the spread of the various types of attributes.<br><br>\n",
    "Plot 1 - The minimum and maximum age of patients was 30 and 80 years respectively with patients at age of 55 being the highest in number.<br><br>\n",
    "Plot 2 - The opearations carried out was the highest in the year 1958 and it decreased gradually before rising up again from 1964. However the operations reduced linearly after 1966, indicating that the need to operate on patients having Haberman decreased.<br><br>\n",
    "Plot 3 - Most of patients had 0-4 auxillary nodes, while patients with more than 5 very remarkably less.<br><br>\n",
    "Plot 4 - Less than half of total patients operated upon survived for only 5 years or less"
   ]
  },
  {
   "cell_type": "code",
   "execution_count": 11,
   "id": "5d1e96fc",
   "metadata": {},
   "outputs": [
    {
     "data": {
      "text/plain": [
       "array([[<AxesSubplot:title={'center':'patient_age_operation'}>,\n",
       "        <AxesSubplot:title={'center':'patient_year_operation'}>],\n",
       "       [<AxesSubplot:title={'center':'auxillary_nodes'}>,\n",
       "        <AxesSubplot:title={'center':'survival_status'}>]], dtype=object)"
      ]
     },
     "execution_count": 11,
     "metadata": {},
     "output_type": "execute_result"
    },
    {
     "data": {
      "image/png": "[encoded data removed]",
      "text/plain": [
       "<Figure size 720x720 with 4 Axes>"
      ]
     },
     "metadata": {
      "needs_background": "light"
     },
     "output_type": "display_data"
    }
   ],
   "source": [
    "Haberman_Data.hist(bins = 30, figsize = (10,10))"
   ]
  },
  {
   "cell_type": "markdown",
   "id": "755c049a",
   "metadata": {},
   "source": [
    "### Jointplot"
   ]
  },
  {
   "cell_type": "markdown",
   "id": "aeee61c2",
   "metadata": {},
   "source": [
    "<font size=\"3\">This plot tells us that maximum number of patients had less than 3 auxillary nodes and the highest auxillary nodes were seen in patients aged between 45 and 70 years old. </font>"
   ]
  },
  {
   "cell_type": "code",
   "execution_count": 12,
   "id": "8c9d8dee",
   "metadata": {},
   "outputs": [
    {
     "data": {
      "text/plain": [
       "<seaborn.axisgrid.JointGrid at 0x1d1eb82ca60>"
      ]
     },
     "execution_count": 12,
     "metadata": {},
     "output_type": "execute_result"
    },
    {
     "data": {
      "image/png": "[encoded data removed]",
      "text/plain": [
       "<Figure size 432x432 with 3 Axes>"
      ]
     },
     "metadata": {
      "needs_background": "light"
     },
     "output_type": "display_data"
    }
   ],
   "source": [
    "sb.jointplot(x='patient_age_operation' , y='auxillary_nodes' , data=Haberman_Data, kind='reg')"
   ]
  },
  {
   "cell_type": "markdown",
   "id": "115c139f",
   "metadata": {},
   "source": [
    "### Violin Plot"
   ]
  },
  {
   "cell_type": "markdown",
   "id": "d4354ae6",
   "metadata": {},
   "source": [
    "<font size=\"3\">1. This plot tells us that maximum number of patients who servived for more than 5 years were those with auxillary nodes between 0-3. <br><br>\n",
    "2. The rest of patients dis not survive more than 5 years had very high number of auxillary nodes in the range of 1-30 </font>"
   ]
  },
  {
   "cell_type": "code",
   "execution_count": 13,
   "id": "8186eaca",
   "metadata": {},
   "outputs": [
    {
     "data": {
      "text/plain": [
       "array([1, 2], dtype=int64)"
      ]
     },
     "execution_count": 13,
     "metadata": {},
     "output_type": "execute_result"
    }
   ],
   "source": [
    "Haberman_Data['survival_status'].unique()"
   ]
  },
  {
   "cell_type": "code",
   "execution_count": 14,
   "id": "5ad42058",
   "metadata": {},
   "outputs": [
    {
     "data": {
      "text/plain": [
       "<AxesSubplot:xlabel='survival_status', ylabel='auxillary_nodes'>"
      ]
     },
     "execution_count": 14,
     "metadata": {},
     "output_type": "execute_result"
    },
    {
     "data": {
      "image/png": "[encoded data removed]",
      "text/plain": [
       "<Figure size 432x288 with 1 Axes>"
      ]
     },
     "metadata": {
      "needs_background": "light"
     },
     "output_type": "display_data"
    }
   ],
   "source": [
    "sb.violinplot(x='survival_status' , y='auxillary_nodes'  ,data=Haberman_Data, hue='survival_status')"
   ]
  },
  {
   "cell_type": "markdown",
   "id": "e649e892",
   "metadata": {},
   "source": [
    "### Heatmap"
   ]
  },
  {
   "cell_type": "markdown",
   "id": "d6440e2e",
   "metadata": {},
   "source": [
    "This plot gives a distribution of various parameters and the survival atatus."
   ]
  },
  {
   "cell_type": "code",
   "execution_count": 15,
   "id": "1b1a64fb",
   "metadata": {
    "id": "IcHm1wM-1vb6"
   },
   "outputs": [
    {
     "data": {
      "text/plain": [
       "survival_status           1.000000\n",
       "auxillary_nodes           0.579593\n",
       "patient_age_operation     0.036691\n",
       "patient_year_operation    0.015118\n",
       "Name: survival_status, dtype: float64"
      ]
     },
     "execution_count": 15,
     "metadata": {},
     "output_type": "execute_result"
    },
    {
     "data": {
      "image/png": "[encoded data removed]",
      "text/plain": [
       "<Figure size 576x432 with 2 Axes>"
      ]
     },
     "metadata": {
      "needs_background": "light"
     },
     "output_type": "display_data"
    }
   ],
   "source": [
    "corr_matrix = Haberman_Data.corr()\n",
    "\n",
    "mask = np.triu(np.ones_like(corr_matrix, dtype=bool))  \n",
    "plt.figure(figsize=(8, 6))  # to set the figure size\n",
    "heatmap(corr_matrix, mask=mask, annot=False, lw=0, linecolor='blue', cmap='YlOrRd', fmt='0.6f')\n",
    "plt.title(\"Correlation Matrix\")  # to add title \n",
    "plt.xticks(rotation=90)\n",
    "plt.yticks(rotation=0)\n",
    "  \n",
    "corr_matrix['survival_status'].sort_values(ascending=False)  "
   ]
  },
  {
   "cell_type": "markdown",
   "id": "3dbf09f1",
   "metadata": {},
   "source": [
    "### Line Plot"
   ]
  },
  {
   "cell_type": "markdown",
   "id": "9ada1ea7",
   "metadata": {},
   "source": [
    "This plot tells us that the year of operation was between 1958 and 1970. Also, the number of patients peaked when they were 40-50 years as seen in yellow line."
   ]
  },
  {
   "cell_type": "code",
   "execution_count": 16,
   "id": "a8bb6a66",
   "metadata": {},
   "outputs": [
    {
     "data": {
      "text/plain": [
       "<matplotlib.legend.Legend at 0x1d1ed299130>"
      ]
     },
     "execution_count": 16,
     "metadata": {},
     "output_type": "execute_result"
    },
    {
     "data": {
      "image/png": "[encoded data removed]",
      "text/plain": [
       "<Figure size 432x288 with 1 Axes>"
      ]
     },
     "metadata": {
      "needs_background": "light"
     },
     "output_type": "display_data"
    }
   ],
   "source": [
    "\n",
    "sb.kdeplot(Haberman_Data['auxillary_nodes'])\n",
    "sb.kdeplot(Haberman_Data['patient_age_operation'])\n",
    "sb.kdeplot(Haberman_Data['patient_year_operation'])\n",
    "\n",
    "import matplotlib.pyplot as plt\n",
    "plt.legend(title='Patient Attributes', loc='upper right', labels=['auxillary_nodes', 'patient_age_operation','patient_year_operation'])"
   ]
  },
  {
   "cell_type": "markdown",
   "id": "5f2501b1",
   "metadata": {},
   "source": [
    "## Data Processing"
   ]
  },
  {
   "cell_type": "markdown",
   "id": "dda59143",
   "metadata": {},
   "source": [
    "### Input and Output"
   ]
  },
  {
   "cell_type": "code",
   "execution_count": 17,
   "id": "a72c0c14",
   "metadata": {},
   "outputs": [],
   "source": [
    "X = Haberman_Data.iloc[:,:-1].values\n",
    "Y = Haberman_Data.iloc[:,3].values"
   ]
  },
  {
   "cell_type": "markdown",
   "id": "31a71603",
   "metadata": {},
   "source": [
    "### Checking input and output data"
   ]
  },
  {
   "cell_type": "code",
   "execution_count": 18,
   "id": "8876bbf0",
   "metadata": {},
   "outputs": [
    {
     "data": {
      "text/html": [
       "<div>\n",
       "<style scoped>\n",
       "    .dataframe tbody tr th:only-of-type {\n",
       "        vertical-align: middle;\n",
       "    }\n",
       "\n",
       "    .dataframe tbody tr th {\n",
       "        vertical-align: top;\n",
       "    }\n",
       "\n",
       "    .dataframe thead th {\n",
       "        text-align: right;\n",
       "    }\n",
       "</style>\n",
       "<table border=\"1\" class=\"dataframe\">\n",
       "  <thead>\n",
       "    <tr style=\"text-align: right;\">\n",
       "      <th></th>\n",
       "      <th>0</th>\n",
       "      <th>1</th>\n",
       "      <th>2</th>\n",
       "    </tr>\n",
       "  </thead>\n",
       "  <tbody>\n",
       "    <tr>\n",
       "      <th>0</th>\n",
       "      <td>30</td>\n",
       "      <td>64</td>\n",
       "      <td>1</td>\n",
       "    </tr>\n",
       "    <tr>\n",
       "      <th>1</th>\n",
       "      <td>30</td>\n",
       "      <td>65</td>\n",
       "      <td>0</td>\n",
       "    </tr>\n",
       "    <tr>\n",
       "      <th>2</th>\n",
       "      <td>31</td>\n",
       "      <td>59</td>\n",
       "      <td>2</td>\n",
       "    </tr>\n",
       "    <tr>\n",
       "      <th>3</th>\n",
       "      <td>33</td>\n",
       "      <td>60</td>\n",
       "      <td>0</td>\n",
       "    </tr>\n",
       "    <tr>\n",
       "      <th>4</th>\n",
       "      <td>34</td>\n",
       "      <td>59</td>\n",
       "      <td>0</td>\n",
       "    </tr>\n",
       "    <tr>\n",
       "      <th>...</th>\n",
       "      <td>...</td>\n",
       "      <td>...</td>\n",
       "      <td>...</td>\n",
       "    </tr>\n",
       "    <tr>\n",
       "      <th>239</th>\n",
       "      <td>74</td>\n",
       "      <td>63</td>\n",
       "      <td>0</td>\n",
       "    </tr>\n",
       "    <tr>\n",
       "      <th>240</th>\n",
       "      <td>75</td>\n",
       "      <td>62</td>\n",
       "      <td>1</td>\n",
       "    </tr>\n",
       "    <tr>\n",
       "      <th>241</th>\n",
       "      <td>76</td>\n",
       "      <td>67</td>\n",
       "      <td>0</td>\n",
       "    </tr>\n",
       "    <tr>\n",
       "      <th>242</th>\n",
       "      <td>78</td>\n",
       "      <td>65</td>\n",
       "      <td>1</td>\n",
       "    </tr>\n",
       "    <tr>\n",
       "      <th>243</th>\n",
       "      <td>83</td>\n",
       "      <td>58</td>\n",
       "      <td>2</td>\n",
       "    </tr>\n",
       "  </tbody>\n",
       "</table>\n",
       "<p>244 rows × 3 columns</p>\n",
       "</div>"
      ],
      "text/plain": [
       "      0   1  2\n",
       "0    30  64  1\n",
       "1    30  65  0\n",
       "2    31  59  2\n",
       "3    33  60  0\n",
       "4    34  59  0\n",
       "..   ..  .. ..\n",
       "239  74  63  0\n",
       "240  75  62  1\n",
       "241  76  67  0\n",
       "242  78  65  1\n",
       "243  83  58  2\n",
       "\n",
       "[244 rows x 3 columns]"
      ]
     },
     "execution_count": 18,
     "metadata": {},
     "output_type": "execute_result"
    }
   ],
   "source": [
    "pd.DataFrame(X)"
   ]
  },
  {
   "cell_type": "code",
   "execution_count": 19,
   "id": "69d34ba9",
   "metadata": {},
   "outputs": [
    {
     "data": {
      "text/html": [
       "<div>\n",
       "<style scoped>\n",
       "    .dataframe tbody tr th:only-of-type {\n",
       "        vertical-align: middle;\n",
       "    }\n",
       "\n",
       "    .dataframe tbody tr th {\n",
       "        vertical-align: top;\n",
       "    }\n",
       "\n",
       "    .dataframe thead th {\n",
       "        text-align: right;\n",
       "    }\n",
       "</style>\n",
       "<table border=\"1\" class=\"dataframe\">\n",
       "  <thead>\n",
       "    <tr style=\"text-align: right;\">\n",
       "      <th></th>\n",
       "      <th>0</th>\n",
       "    </tr>\n",
       "  </thead>\n",
       "  <tbody>\n",
       "    <tr>\n",
       "      <th>0</th>\n",
       "      <td>1</td>\n",
       "    </tr>\n",
       "    <tr>\n",
       "      <th>1</th>\n",
       "      <td>1</td>\n",
       "    </tr>\n",
       "    <tr>\n",
       "      <th>2</th>\n",
       "      <td>1</td>\n",
       "    </tr>\n",
       "    <tr>\n",
       "      <th>3</th>\n",
       "      <td>1</td>\n",
       "    </tr>\n",
       "    <tr>\n",
       "      <th>4</th>\n",
       "      <td>2</td>\n",
       "    </tr>\n",
       "    <tr>\n",
       "      <th>...</th>\n",
       "      <td>...</td>\n",
       "    </tr>\n",
       "    <tr>\n",
       "      <th>239</th>\n",
       "      <td>1</td>\n",
       "    </tr>\n",
       "    <tr>\n",
       "      <th>240</th>\n",
       "      <td>1</td>\n",
       "    </tr>\n",
       "    <tr>\n",
       "      <th>241</th>\n",
       "      <td>1</td>\n",
       "    </tr>\n",
       "    <tr>\n",
       "      <th>242</th>\n",
       "      <td>2</td>\n",
       "    </tr>\n",
       "    <tr>\n",
       "      <th>243</th>\n",
       "      <td>2</td>\n",
       "    </tr>\n",
       "  </tbody>\n",
       "</table>\n",
       "<p>244 rows × 1 columns</p>\n",
       "</div>"
      ],
      "text/plain": [
       "     0\n",
       "0    1\n",
       "1    1\n",
       "2    1\n",
       "3    1\n",
       "4    2\n",
       "..  ..\n",
       "239  1\n",
       "240  1\n",
       "241  1\n",
       "242  2\n",
       "243  2\n",
       "\n",
       "[244 rows x 1 columns]"
      ]
     },
     "execution_count": 19,
     "metadata": {},
     "output_type": "execute_result"
    }
   ],
   "source": [
    "pd.DataFrame(Y)"
   ]
  },
  {
   "cell_type": "markdown",
   "id": "00e160c1",
   "metadata": {
    "id": "96W_Q5zv5zjF"
   },
   "source": [
    "### Splitting the train and test data"
   ]
  },
  {
   "cell_type": "markdown",
   "id": "10ee4bf2",
   "metadata": {},
   "source": [
    "Removing the useless feature (Patient year of operation) and the output from the dataset"
   ]
  },
  {
   "cell_type": "code",
   "execution_count": 20,
   "id": "28211449",
   "metadata": {},
   "outputs": [],
   "source": [
    "train_data, test_data = train_test_split(Haberman_Data, test_size=0.2)\n",
    "\n",
    "Y_train = train_data[['survival_status']].copy()\n",
    "X_train = train_data.drop(['survival_status', 'patient_year_operation'], axis=1) "
   ]
  },
  {
   "cell_type": "code",
   "execution_count": 21,
   "id": "1b7a0b01",
   "metadata": {},
   "outputs": [],
   "source": [
    "Y_test = test_data[['survival_status']].copy()\n",
    "X_test = test_data.drop(['survival_status', 'patient_year_operation'], axis=1) "
   ]
  },
  {
   "cell_type": "code",
   "execution_count": 22,
   "id": "331a9801",
   "metadata": {
    "id": "1rmJ2oX96PTj"
   },
   "outputs": [
    {
     "name": "stdout",
     "output_type": "stream",
     "text": [
      "<class 'pandas.core.frame.DataFrame'>\n",
      "<class 'pandas.core.frame.DataFrame'>\n"
     ]
    }
   ],
   "source": [
    "print(type(X_train))\n",
    "print(type(Y_train))"
   ]
  },
  {
   "cell_type": "code",
   "execution_count": 23,
   "id": "09525ab1",
   "metadata": {},
   "outputs": [
    {
     "data": {
      "text/html": [
       "<div>\n",
       "<style scoped>\n",
       "    .dataframe tbody tr th:only-of-type {\n",
       "        vertical-align: middle;\n",
       "    }\n",
       "\n",
       "    .dataframe tbody tr th {\n",
       "        vertical-align: top;\n",
       "    }\n",
       "\n",
       "    .dataframe thead th {\n",
       "        text-align: right;\n",
       "    }\n",
       "</style>\n",
       "<table border=\"1\" class=\"dataframe\">\n",
       "  <thead>\n",
       "    <tr style=\"text-align: right;\">\n",
       "      <th></th>\n",
       "      <th>survival_status</th>\n",
       "    </tr>\n",
       "  </thead>\n",
       "  <tbody>\n",
       "    <tr>\n",
       "      <th>16</th>\n",
       "      <td>1</td>\n",
       "    </tr>\n",
       "    <tr>\n",
       "      <th>228</th>\n",
       "      <td>1</td>\n",
       "    </tr>\n",
       "    <tr>\n",
       "      <th>153</th>\n",
       "      <td>1</td>\n",
       "    </tr>\n",
       "    <tr>\n",
       "      <th>46</th>\n",
       "      <td>1</td>\n",
       "    </tr>\n",
       "    <tr>\n",
       "      <th>250</th>\n",
       "      <td>1</td>\n",
       "    </tr>\n",
       "    <tr>\n",
       "      <th>...</th>\n",
       "      <td>...</td>\n",
       "    </tr>\n",
       "    <tr>\n",
       "      <th>249</th>\n",
       "      <td>1</td>\n",
       "    </tr>\n",
       "    <tr>\n",
       "      <th>117</th>\n",
       "      <td>1</td>\n",
       "    </tr>\n",
       "    <tr>\n",
       "      <th>255</th>\n",
       "      <td>1</td>\n",
       "    </tr>\n",
       "    <tr>\n",
       "      <th>169</th>\n",
       "      <td>2</td>\n",
       "    </tr>\n",
       "    <tr>\n",
       "      <th>286</th>\n",
       "      <td>2</td>\n",
       "    </tr>\n",
       "  </tbody>\n",
       "</table>\n",
       "<p>195 rows × 1 columns</p>\n",
       "</div>"
      ],
      "text/plain": [
       "     survival_status\n",
       "16                 1\n",
       "228                1\n",
       "153                1\n",
       "46                 1\n",
       "250                1\n",
       "..               ...\n",
       "249                1\n",
       "117                1\n",
       "255                1\n",
       "169                2\n",
       "286                2\n",
       "\n",
       "[195 rows x 1 columns]"
      ]
     },
     "execution_count": 23,
     "metadata": {},
     "output_type": "execute_result"
    }
   ],
   "source": [
    "pd.DataFrame(Y_train)"
   ]
  },
  {
   "cell_type": "code",
   "execution_count": 24,
   "id": "96778e50",
   "metadata": {},
   "outputs": [
    {
     "data": {
      "text/html": [
       "<div>\n",
       "<style scoped>\n",
       "    .dataframe tbody tr th:only-of-type {\n",
       "        vertical-align: middle;\n",
       "    }\n",
       "\n",
       "    .dataframe tbody tr th {\n",
       "        vertical-align: top;\n",
       "    }\n",
       "\n",
       "    .dataframe thead th {\n",
       "        text-align: right;\n",
       "    }\n",
       "</style>\n",
       "<table border=\"1\" class=\"dataframe\">\n",
       "  <thead>\n",
       "    <tr style=\"text-align: right;\">\n",
       "      <th></th>\n",
       "      <th>patient_age_operation</th>\n",
       "      <th>auxillary_nodes</th>\n",
       "    </tr>\n",
       "  </thead>\n",
       "  <tbody>\n",
       "    <tr>\n",
       "      <th>16</th>\n",
       "      <td>36</td>\n",
       "      <td>1</td>\n",
       "    </tr>\n",
       "    <tr>\n",
       "      <th>228</th>\n",
       "      <td>60</td>\n",
       "      <td>0</td>\n",
       "    </tr>\n",
       "    <tr>\n",
       "      <th>153</th>\n",
       "      <td>52</td>\n",
       "      <td>0</td>\n",
       "    </tr>\n",
       "    <tr>\n",
       "      <th>46</th>\n",
       "      <td>41</td>\n",
       "      <td>0</td>\n",
       "    </tr>\n",
       "    <tr>\n",
       "      <th>250</th>\n",
       "      <td>63</td>\n",
       "      <td>0</td>\n",
       "    </tr>\n",
       "    <tr>\n",
       "      <th>...</th>\n",
       "      <td>...</td>\n",
       "      <td>...</td>\n",
       "    </tr>\n",
       "    <tr>\n",
       "      <th>249</th>\n",
       "      <td>63</td>\n",
       "      <td>0</td>\n",
       "    </tr>\n",
       "    <tr>\n",
       "      <th>117</th>\n",
       "      <td>49</td>\n",
       "      <td>0</td>\n",
       "    </tr>\n",
       "    <tr>\n",
       "      <th>255</th>\n",
       "      <td>64</td>\n",
       "      <td>0</td>\n",
       "    </tr>\n",
       "    <tr>\n",
       "      <th>169</th>\n",
       "      <td>54</td>\n",
       "      <td>5</td>\n",
       "    </tr>\n",
       "    <tr>\n",
       "      <th>286</th>\n",
       "      <td>70</td>\n",
       "      <td>4</td>\n",
       "    </tr>\n",
       "  </tbody>\n",
       "</table>\n",
       "<p>195 rows × 2 columns</p>\n",
       "</div>"
      ],
      "text/plain": [
       "     patient_age_operation  auxillary_nodes\n",
       "16                      36                1\n",
       "228                     60                0\n",
       "153                     52                0\n",
       "46                      41                0\n",
       "250                     63                0\n",
       "..                     ...              ...\n",
       "249                     63                0\n",
       "117                     49                0\n",
       "255                     64                0\n",
       "169                     54                5\n",
       "286                     70                4\n",
       "\n",
       "[195 rows x 2 columns]"
      ]
     },
     "execution_count": 24,
     "metadata": {},
     "output_type": "execute_result"
    }
   ],
   "source": [
    "pd.DataFrame(X_train)"
   ]
  },
  {
   "cell_type": "markdown",
   "id": "cd9278a7",
   "metadata": {
    "id": "70OIRrU98qxq"
   },
   "source": [
    "### data visualization after test and train set splitting"
   ]
  },
  {
   "cell_type": "code",
   "execution_count": 25,
   "id": "164dbb90",
   "metadata": {
    "id": "dI9FqIEN8svv"
   },
   "outputs": [],
   "source": [
    "def plot_scatter_with_labels(X1, X2, Y, xlabel='patient_age_operation', ylabel='auxillary_nodes'):\n",
    "  df = pd.DataFrame(dict(x1=X1, x2=X2, label=Y))\n",
    "  groups = df.groupby('label')\n",
    "  for number, group in groups:\n",
    "    if number == 1:\n",
    "      name = 'Survived more than 5 years'\n",
    "    elif number == 2:\n",
    "      name = 'Survived less than 5 years'\n",
    "    plt.plot(group.x1, group.x2, marker='o', linestyle='', ms=3, label=name)\n",
    "\n",
    "  plt.legend()\n",
    "  plt.xlabel(xlabel)\n",
    "  plt.ylabel(ylabel)\n"
   ]
  },
  {
   "cell_type": "code",
   "execution_count": 26,
   "id": "1251f229",
   "metadata": {
    "id": "Utmvds0L90ZR"
   },
   "outputs": [
    {
     "data": {
      "image/png": "[encoded data removed]",
      "text/plain": [
       "<Figure size 432x288 with 1 Axes>"
      ]
     },
     "metadata": {
      "needs_background": "light"
     },
     "output_type": "display_data"
    }
   ],
   "source": [
    "plot_scatter_with_labels(train_data['patient_age_operation'], train_data['auxillary_nodes'], train_data['survival_status'])"
   ]
  },
  {
   "cell_type": "markdown",
   "id": "88cbb466",
   "metadata": {
    "id": "LZvOJvaK-jyT"
   },
   "source": [
    "### Scaling the features separately\n",
    "\n",
    "We standardize all the data using their mean and standard deviation\n"
   ]
  },
  {
   "cell_type": "markdown",
   "id": "db39f074",
   "metadata": {},
   "source": [
    "<b>Scaling X_train and X_test</b>"
   ]
  },
  {
   "cell_type": "code",
   "execution_count": 27,
   "id": "e525c2b4",
   "metadata": {
    "id": "vKxjRS4O-brY"
   },
   "outputs": [
    {
     "name": "stdout",
     "output_type": "stream",
     "text": [
      "<class 'numpy.ndarray'>\n"
     ]
    }
   ],
   "source": [
    "scaler = StandardScaler()\n",
    "X_train = scaler.fit_transform(X_train)\n",
    "print(type(X_train))"
   ]
  },
  {
   "cell_type": "code",
   "execution_count": 28,
   "id": "f8f2e0a9",
   "metadata": {},
   "outputs": [
    {
     "data": {
      "text/html": [
       "<div>\n",
       "<style scoped>\n",
       "    .dataframe tbody tr th:only-of-type {\n",
       "        vertical-align: middle;\n",
       "    }\n",
       "\n",
       "    .dataframe tbody tr th {\n",
       "        vertical-align: top;\n",
       "    }\n",
       "\n",
       "    .dataframe thead th {\n",
       "        text-align: right;\n",
       "    }\n",
       "</style>\n",
       "<table border=\"1\" class=\"dataframe\">\n",
       "  <thead>\n",
       "    <tr style=\"text-align: right;\">\n",
       "      <th></th>\n",
       "      <th>0</th>\n",
       "      <th>1</th>\n",
       "    </tr>\n",
       "  </thead>\n",
       "  <tbody>\n",
       "    <tr>\n",
       "      <th>0</th>\n",
       "      <td>-1.602259</td>\n",
       "      <td>-0.238669</td>\n",
       "    </tr>\n",
       "    <tr>\n",
       "      <th>1</th>\n",
       "      <td>0.707126</td>\n",
       "      <td>-0.464594</td>\n",
       "    </tr>\n",
       "    <tr>\n",
       "      <th>2</th>\n",
       "      <td>-0.062669</td>\n",
       "      <td>-0.464594</td>\n",
       "    </tr>\n",
       "    <tr>\n",
       "      <th>3</th>\n",
       "      <td>-1.121137</td>\n",
       "      <td>-0.464594</td>\n",
       "    </tr>\n",
       "    <tr>\n",
       "      <th>4</th>\n",
       "      <td>0.995799</td>\n",
       "      <td>-0.464594</td>\n",
       "    </tr>\n",
       "    <tr>\n",
       "      <th>...</th>\n",
       "      <td>...</td>\n",
       "      <td>...</td>\n",
       "    </tr>\n",
       "    <tr>\n",
       "      <th>190</th>\n",
       "      <td>0.995799</td>\n",
       "      <td>-0.464594</td>\n",
       "    </tr>\n",
       "    <tr>\n",
       "      <th>191</th>\n",
       "      <td>-0.351342</td>\n",
       "      <td>-0.464594</td>\n",
       "    </tr>\n",
       "    <tr>\n",
       "      <th>192</th>\n",
       "      <td>1.092023</td>\n",
       "      <td>-0.464594</td>\n",
       "    </tr>\n",
       "    <tr>\n",
       "      <th>193</th>\n",
       "      <td>0.129780</td>\n",
       "      <td>0.665030</td>\n",
       "    </tr>\n",
       "    <tr>\n",
       "      <th>194</th>\n",
       "      <td>1.669370</td>\n",
       "      <td>0.439105</td>\n",
       "    </tr>\n",
       "  </tbody>\n",
       "</table>\n",
       "<p>195 rows × 2 columns</p>\n",
       "</div>"
      ],
      "text/plain": [
       "            0         1\n",
       "0   -1.602259 -0.238669\n",
       "1    0.707126 -0.464594\n",
       "2   -0.062669 -0.464594\n",
       "3   -1.121137 -0.464594\n",
       "4    0.995799 -0.464594\n",
       "..        ...       ...\n",
       "190  0.995799 -0.464594\n",
       "191 -0.351342 -0.464594\n",
       "192  1.092023 -0.464594\n",
       "193  0.129780  0.665030\n",
       "194  1.669370  0.439105\n",
       "\n",
       "[195 rows x 2 columns]"
      ]
     },
     "execution_count": 28,
     "metadata": {},
     "output_type": "execute_result"
    }
   ],
   "source": [
    "pd.DataFrame(X_train)"
   ]
  },
  {
   "cell_type": "code",
   "execution_count": 29,
   "id": "d77421f9",
   "metadata": {},
   "outputs": [],
   "source": [
    "X_test = scaler.transform(X_test)"
   ]
  },
  {
   "cell_type": "markdown",
   "id": "290dc4e8",
   "metadata": {},
   "source": [
    "<b>Y_train and Y_test need not be scaled as they are binary values</b>"
   ]
  },
  {
   "cell_type": "markdown",
   "id": "51451631",
   "metadata": {
    "id": "pA3oMFS0_JUe"
   },
   "source": [
    "## Exploring different machine learning tools"
   ]
  },
  {
   "cell_type": "code",
   "execution_count": 30,
   "id": "cd1f4d7e",
   "metadata": {
    "id": "TDdtW_b6_y4P"
   },
   "outputs": [],
   "source": [
    "from sklearn.model_selection import cross_val_score\n",
    "# importing the models\n",
    "from sklearn.discriminant_analysis import LinearDiscriminantAnalysis\n",
    "from sklearn.naive_bayes import GaussianNB\n",
    "from sklearn.neighbors import KNeighborsClassifier\n",
    "from sklearn.svm import SVC\n",
    "from sklearn.svm import SVC\n",
    "from sklearn.tree import DecisionTreeClassifier"
   ]
  },
  {
   "cell_type": "markdown",
   "id": "4d82d67b",
   "metadata": {
    "id": "WgK0wRHzASOT"
   },
   "source": [
    "Checking if the output is numpy array and changing the shape"
   ]
  },
  {
   "cell_type": "code",
   "execution_count": 31,
   "id": "a20debcb",
   "metadata": {
    "id": "MEs7kN_e_fMs"
   },
   "outputs": [
    {
     "name": "stdout",
     "output_type": "stream",
     "text": [
      "<class 'numpy.ndarray'>\n",
      "<class 'numpy.ndarray'>\n"
     ]
    }
   ],
   "source": [
    "Y_train = Y_train.values.ravel()\n",
    "print(type(Y_train))\n",
    "\n",
    "print(type(X_train))"
   ]
  },
  {
   "cell_type": "markdown",
   "id": "62043101",
   "metadata": {
    "id": "6vTO4tEUAcO9"
   },
   "source": [
    "### Discriminant Analysis Classifier"
   ]
  },
  {
   "cell_type": "code",
   "execution_count": 32,
   "id": "e8fbc0f1",
   "metadata": {
    "id": "Qfu-JgVd_RWZ"
   },
   "outputs": [
    {
     "data": {
      "text/plain": [
       "LinearDiscriminantAnalysis()"
      ]
     },
     "execution_count": 32,
     "metadata": {},
     "output_type": "execute_result"
    }
   ],
   "source": [
    "da_clf = LinearDiscriminantAnalysis()\n",
    "da_clf.fit(X_train, Y_train)"
   ]
  },
  {
   "cell_type": "code",
   "execution_count": 33,
   "id": "54d2008f",
   "metadata": {
    "id": "Cswi9cTd_G5s"
   },
   "outputs": [
    {
     "name": "stdout",
     "output_type": "stream",
     "text": [
      "[0.76923077 0.76923077 0.79487179 0.87179487 0.84615385]\n",
      "Averaged prediction accuracy =  0.8102564102564103\n"
     ]
    }
   ],
   "source": [
    "from sklearn.model_selection import cross_val_score\n",
    "scores = cross_val_score(da_clf, X_train, Y_train, scoring='accuracy', cv=5)  # 5-fold\n",
    "print(scores)\n",
    "print('Averaged prediction accuracy = ', np.average(scores))\n",
    "avg_cv_scores = {}\n",
    "avg_cv_scores['DA'] = np.average(scores)"
   ]
  },
  {
   "cell_type": "code",
   "execution_count": 34,
   "id": "7e805ae7",
   "metadata": {},
   "outputs": [
    {
     "data": {
      "image/png": "[encoded data removed]",
      "text/plain": [
       "<Figure size 432x288 with 1 Axes>"
      ]
     },
     "metadata": {
      "needs_background": "light"
     },
     "output_type": "display_data"
    }
   ],
   "source": [
    "def plot_decision_boundary(clf, axes, inverse_transform=False):\n",
    "    x0s = np.linspace(axes[0], axes[1], 100)\n",
    "    x1s = np.linspace(axes[2], axes[3], 100)\n",
    "    x0, x1 = np.meshgrid(x0s, x1s)\n",
    "    X = np.c_[x0.ravel(), x1.ravel()]\n",
    "    y_pred = clf.predict(X).reshape(100, 100)\n",
    "    if inverse_transform:\n",
    "        X = scaler.inverse_transform(np.c_[x0s, x1s])\n",
    "        x0, x1 = np.meshgrid(X[:,0], X[:,1])\n",
    "    plt.contourf(x0, x1, y_pred, cmap=plt.cm.brg, alpha=0.2)\n",
    "\n",
    "def plot_prediction_results(clf, X, Y):\n",
    "    plot_decision_boundary(clf, [-3, 3, -1, 6])\n",
    "    plot_scatter_with_labels(X[:,0], X[:,1], Y, xlabel='patient_age_operation', ylabel='auxillary_nodes')\n",
    "    \n",
    "plot_prediction_results(da_clf, X_train, Y_train)"
   ]
  },
  {
   "cell_type": "markdown",
   "id": "7f98a193",
   "metadata": {
    "id": "l1TQ632QAig_"
   },
   "source": [
    "### Naive Bayes Classifier"
   ]
  },
  {
   "cell_type": "code",
   "execution_count": 35,
   "id": "bfe9364b",
   "metadata": {
    "id": "OH55XNSGAkK9"
   },
   "outputs": [
    {
     "name": "stdout",
     "output_type": "stream",
     "text": [
      "[0.76923077 0.76923077 0.84615385 0.79487179 0.8974359 ]\n",
      "Averaged prediction accuracy =  0.8153846153846154\n"
     ]
    },
    {
     "data": {
      "image/png": "[encoded data removed]",
      "text/plain": [
       "<Figure size 432x288 with 1 Axes>"
      ]
     },
     "metadata": {
      "needs_background": "light"
     },
     "output_type": "display_data"
    }
   ],
   "source": [
    "nb_clf = GaussianNB()\n",
    "nb_clf.fit(X_train, Y_train)\n",
    "scores = cross_val_score(nb_clf, X_train, Y_train, scoring='accuracy', cv=5)\n",
    "print(scores)\n",
    "print('Averaged prediction accuracy = ', np.average(scores))\n",
    "avg_cv_scores['NB'] = np.average(scores)\n",
    "plot_prediction_results(nb_clf, X_train, Y_train)"
   ]
  },
  {
   "cell_type": "markdown",
   "id": "b273800b",
   "metadata": {
    "id": "mpzc6ngnAq1C"
   },
   "source": [
    "### K-Nearst Neighbors"
   ]
  },
  {
   "cell_type": "code",
   "execution_count": 36,
   "id": "bcccc9f7",
   "metadata": {
    "id": "UvKZDd4jApj_"
   },
   "outputs": [
    {
     "name": "stdout",
     "output_type": "stream",
     "text": [
      "[0.82051282 0.79487179 0.84615385 0.8974359  0.84615385]\n",
      "Averaged prediction accuracy =  0.841025641025641\n"
     ]
    },
    {
     "data": {
      "image/png": "[encoded data removed]",
      "text/plain": [
       "<Figure size 432x288 with 1 Axes>"
      ]
     },
     "metadata": {
      "needs_background": "light"
     },
     "output_type": "display_data"
    }
   ],
   "source": [
    "knn_clf = KNeighborsClassifier(n_neighbors=5) # change n_neighbors; boundary becomes smoother with increasing value of K\n",
    "knn_clf.fit(X_train, Y_train)\n",
    "scores = cross_val_score(knn_clf, X_train, Y_train, scoring='accuracy', cv=5)\n",
    "print(scores)\n",
    "print('Averaged prediction accuracy = ', np.average(scores))\n",
    "avg_cv_scores['KNN'] = np.average(scores)\n",
    "plot_prediction_results(knn_clf, X_train, Y_train)"
   ]
  },
  {
   "cell_type": "markdown",
   "id": "e6ab2d3c",
   "metadata": {
    "id": "iFMX7hjaAxT2"
   },
   "source": [
    "### Linear SVM"
   ]
  },
  {
   "cell_type": "code",
   "execution_count": 37,
   "id": "810b935c",
   "metadata": {
    "id": "nTr8DZe5Au3l"
   },
   "outputs": [
    {
     "name": "stdout",
     "output_type": "stream",
     "text": [
      "[0.82051282 0.84615385 0.82051282 0.8974359  0.84615385]\n",
      "Averaged prediction accuracy =  0.8461538461538461\n"
     ]
    },
    {
     "data": {
      "image/png": "[encoded data removed]",
      "text/plain": [
       "<Figure size 432x288 with 1 Axes>"
      ]
     },
     "metadata": {
      "needs_background": "light"
     },
     "output_type": "display_data"
    }
   ],
   "source": [
    "svmln_clf = SVC(kernel='linear')\n",
    "svmln_clf.fit(X_train, Y_train)\n",
    "scores = cross_val_score(svmln_clf, X_train, Y_train, scoring='accuracy', cv=5)\n",
    "print(scores)\n",
    "print('Averaged prediction accuracy = ', np.average(scores))\n",
    "avg_cv_scores['SVM-linear'] = np.average(scores)\n",
    "plot_prediction_results(svmln_clf, X_train, Y_train)"
   ]
  },
  {
   "cell_type": "markdown",
   "id": "4df8de95",
   "metadata": {
    "id": "BVybVbYLA2kX"
   },
   "source": [
    "### Nonlinear SVM (Gaussian Kernel)"
   ]
  },
  {
   "cell_type": "code",
   "execution_count": 38,
   "id": "eec3d759",
   "metadata": {
    "id": "-jUY94U5A0kR"
   },
   "outputs": [
    {
     "name": "stdout",
     "output_type": "stream",
     "text": [
      "[0.76923077 0.82051282 0.82051282 0.87179487 0.84615385]\n",
      "Averaged prediction accuracy =  0.8256410256410257\n"
     ]
    },
    {
     "data": {
      "image/png": "[encoded data removed]",
      "text/plain": [
       "<Figure size 432x288 with 1 Axes>"
      ]
     },
     "metadata": {
      "needs_background": "light"
     },
     "output_type": "display_data"
    }
   ],
   "source": [
    "svmrbf_clf = SVC(kernel='rbf')\n",
    "svmrbf_clf.fit(X_train, Y_train)\n",
    "scores = cross_val_score(svmrbf_clf, X_train, Y_train, scoring='accuracy', cv=5)\n",
    "print(scores)\n",
    "print('Averaged prediction accuracy = ', np.average(scores))\n",
    "avg_cv_scores['SVM-nonlinear'] = np.average(scores)\n",
    "plot_prediction_results(svmrbf_clf, X_train, Y_train)"
   ]
  },
  {
   "cell_type": "markdown",
   "id": "95be48d8",
   "metadata": {
    "id": "14MgPDS5A7TL"
   },
   "source": [
    "### Decision Tree"
   ]
  },
  {
   "cell_type": "code",
   "execution_count": 39,
   "id": "15781c60",
   "metadata": {
    "id": "9X0DorPpA6Lx"
   },
   "outputs": [
    {
     "name": "stdout",
     "output_type": "stream",
     "text": [
      "[0.79487179 0.82051282 0.84615385 0.8974359  0.87179487]\n",
      "Averaged prediction accuracy =  0.8461538461538461\n"
     ]
    },
    {
     "data": {
      "image/png": "[encoded data removed]",
      "text/plain": [
       "<Figure size 432x288 with 1 Axes>"
      ]
     },
     "metadata": {
      "needs_background": "light"
     },
     "output_type": "display_data"
    }
   ],
   "source": [
    "tree_clf = DecisionTreeClassifier(max_depth=3) # Play with hyperparameter\n",
    "tree_clf.fit(X_train, Y_train)\n",
    "scores = cross_val_score(tree_clf, X_train, Y_train, scoring='accuracy', cv=5)\n",
    "print(scores)\n",
    "print('Averaged prediction accuracy = ', np.average(scores))\n",
    "avg_cv_scores['Decision Tree'] = np.average(scores)\n",
    "plot_prediction_results(tree_clf, X_train, Y_train)"
   ]
  },
  {
   "cell_type": "code",
   "execution_count": 40,
   "id": "c085c876",
   "metadata": {
    "id": "SsKtCmdUA-a8"
   },
   "outputs": [
    {
     "data": {
      "text/plain": [
       "[('SVM-linear', 0.8461538461538461),\n",
       " ('Decision Tree', 0.8461538461538461),\n",
       " ('KNN', 0.841025641025641),\n",
       " ('SVM-nonlinear', 0.8256410256410257),\n",
       " ('NB', 0.8153846153846154),\n",
       " ('DA', 0.8102564102564103)]"
      ]
     },
     "execution_count": 40,
     "metadata": {},
     "output_type": "execute_result"
    }
   ],
   "source": [
    "sorted_scores = sorted(avg_cv_scores.items(), key=lambda X:X[1], reverse=True)\n",
    "sorted_scores"
   ]
  },
  {
   "cell_type": "markdown",
   "id": "4d3c5afa",
   "metadata": {
    "id": "fVjv9efuBjkp"
   },
   "source": [
    "## Using the models to predict the testset"
   ]
  },
  {
   "cell_type": "code",
   "execution_count": 41,
   "id": "53986bfd",
   "metadata": {},
   "outputs": [
    {
     "name": "stdout",
     "output_type": "stream",
     "text": [
      "<class 'pandas.core.frame.DataFrame'>\n",
      "Int64Index: 244 entries, 0 to 305\n",
      "Data columns (total 4 columns):\n",
      " #   Column                  Non-Null Count  Dtype\n",
      "---  ------                  --------------  -----\n",
      " 0   patient_age_operation   244 non-null    int64\n",
      " 1   patient_year_operation  244 non-null    int64\n",
      " 2   auxillary_nodes         244 non-null    int64\n",
      " 3   survival_status         244 non-null    int64\n",
      "dtypes: int64(4)\n",
      "memory usage: 17.6 KB\n"
     ]
    }
   ],
   "source": [
    "Haberman_Data.info()"
   ]
  },
  {
   "cell_type": "markdown",
   "id": "6c2da4d3",
   "metadata": {
    "id": "PMLHvYDqHi_G"
   },
   "source": [
    "Using the trained models to do prediction on the test set"
   ]
  },
  {
   "cell_type": "code",
   "execution_count": 42,
   "id": "b8d22706",
   "metadata": {
    "id": "kiBUHcvIHzh1"
   },
   "outputs": [],
   "source": [
    "test_pred_score = {}"
   ]
  },
  {
   "cell_type": "code",
   "execution_count": 43,
   "id": "e7be1b65",
   "metadata": {
    "id": "TSQXGpWkHnnY"
   },
   "outputs": [],
   "source": [
    "# Discriminant Analysis Classifier\n",
    "Y_test_pred_da = da_clf.predict(X_test)\n",
    "test_pred_score['DA'] = accuracy_score(Y_test, Y_test_pred_da)\n",
    "\n",
    "# Naive Bayes Classifier\n",
    "Y_test_pred_nb = nb_clf.predict(X_test)\n",
    "test_pred_score['NB'] = accuracy_score(Y_test, Y_test_pred_nb)\n",
    "\n",
    "# K-Nearst Neighbors\n",
    "Y_test_pred_knn = knn_clf.predict(X_test)\n",
    "test_pred_score['KNN'] = accuracy_score(Y_test, Y_test_pred_knn)\n",
    "\n",
    "# Linear SVM\n",
    "Y_test_pred_svmln = svmln_clf.predict(X_test)\n",
    "test_pred_score['SVM_Linear'] = accuracy_score(Y_test, Y_test_pred_svmln)\n",
    "\n",
    "# Nonlinear SVM (Gaussian Kernel)\n",
    "Y_test_pred_svmrbf = svmrbf_clf.predict(X_test)\n",
    "test_pred_score['SVM_nonlinear'] = accuracy_score(Y_test, Y_test_pred_svmrbf)\n",
    "\n",
    "# Decision Tree\n",
    "Y_test_pred_tree_clf = tree_clf.predict(X_test)\n",
    "test_pred_score['Decision Tree'] = accuracy_score(Y_test, Y_test_pred_tree_clf)"
   ]
  },
  {
   "cell_type": "code",
   "execution_count": 44,
   "id": "99744cfd",
   "metadata": {
    "id": "29LRZ44DHnsc"
   },
   "outputs": [
    {
     "data": {
      "text/plain": [
       "[('SVM_Linear', 0.9183673469387755),\n",
       " ('SVM_nonlinear', 0.9183673469387755),\n",
       " ('Decision Tree', 0.9183673469387755),\n",
       " ('DA', 0.8979591836734694),\n",
       " ('KNN', 0.8979591836734694),\n",
       " ('NB', 0.8775510204081632)]"
      ]
     },
     "execution_count": 44,
     "metadata": {},
     "output_type": "execute_result"
    }
   ],
   "source": [
    "sorted_scores = sorted(test_pred_score.items(), key=lambda X:X[1], reverse=True)\n",
    "sorted_scores"
   ]
  },
  {
   "cell_type": "markdown",
   "id": "7ceca3b5",
   "metadata": {},
   "source": [
    "## Conclusion"
   ]
  },
  {
   "cell_type": "markdown",
   "id": "b4ea34a8",
   "metadata": {},
   "source": [
    "\n",
    "1. Among the various classification methods employes for the prediction, KNN and Decision tree have consistently showed better performance scores compared to other when the program was run multiple times.<br><br>\n",
    "\n",
    "2. The classification gave highest performance values of 94.2 through KNN method for test data. However the lowest value was in the range of 80 for Discriminant analysis.<br><br>\n",
    "\n",
    "3. Although, there is not best method, I felt we need to carry out multiple iterations using bigger data to come to a descion on which method to use. Currently, KNN, Navive Bayes are preffered.\n"
   ]
  }
 ],
 "metadata": {
  "kernelspec": {
   "display_name": "Python 3 (ipykernel)",
   "language": "python",
   "name": "python3"
  },
  "language_info": {
   "codemirror_mode": {
    "name": "ipython",
    "version": 3
   },
   "file_extension": ".py",
   "mimetype": "text/x-python",
   "name": "python",
   "nbconvert_exporter": "python",
   "pygments_lexer": "ipython3",
   "version": "3.9.12"
  },
  "toc": {
   "base_numbering": 1,
   "nav_menu": {},
   "number_sections": true,
   "sideBar": true,
   "skip_h1_title": false,
   "title_cell": "Table of Contents",
   "title_sidebar": "Contents",
   "toc_cell": false,
   "toc_position": {
    "height": "calc(100% - 180px)",
    "left": "10px",
    "top": "150px",
    "width": "396.033px"
   },
   "toc_section_display": true,
   "toc_window_display": true
  }
 },
 "nbformat": 4,
 "nbformat_minor": 5
}
